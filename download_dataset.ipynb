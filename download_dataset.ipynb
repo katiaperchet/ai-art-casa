{
 "cells": [
  {
   "cell_type": "code",
   "execution_count": 2,
   "id": "6660b993-689d-4ecf-9b16-19724d226d69",
   "metadata": {},
   "outputs": [],
   "source": [
    "# Set Kaggle Credentials - Environment\n",
    "import os\n",
    "os.environ['KAGGLE_USERNAME'] = \"SET_KAGGLE_USERNAME\"\n",
    "os.environ['KAGGLE_KEY'] = \"SET_KAGGLE_API_KEY\"\n",
    "    "
   ]
  },
  {
   "cell_type": "code",
   "id": "f7d017d0-1f1c-4ce7-ba22-f3be0d86d811",
   "metadata": {
    "ExecuteTime": {
     "end_time": "2024-05-05T01:53:43.276606Z",
     "start_time": "2024-05-05T01:04:53.762114Z"
    }
   },
   "source": [
    "# Download Dataset\n",
    "!kaggle datasets download -d ravidussilva/real-ai-art -p datasets/ --unzip"
   ],
   "outputs": [
    {
     "name": "stdout",
     "output_type": "stream",
     "text": [
      "Dataset URL: https://www.kaggle.com/datasets/ravidussilva/real-ai-art\r\n",
      "License(s): other\r\n",
      "Downloading real-ai-art.zip to /Users/stormtrooper/Software_Projects/Python-Projects/ai-art-casa\r\n",
      "... resuming from 15728640 bytes (10666203115 bytes left) ...\r\n",
      "100%|█████████████████████████████████████▉| 9.95G/9.95G [48:47<00:00, 11.9MB/s]\r\n",
      "100%|██████████████████████████████████████| 9.95G/9.95G [48:47<00:00, 3.64MB/s]\r\n"
     ]
    }
   ],
   "execution_count": 1
  },
  {
   "metadata": {},
   "cell_type": "code",
   "outputs": [],
   "execution_count": null,
   "source": "",
   "id": "95d2062a36703327"
  },
  {
   "cell_type": "code",
   "execution_count": null,
   "id": "fe52a601-c70f-4b7b-9c8e-3902d1cd6112",
   "metadata": {},
   "outputs": [],
   "source": []
  }
 ],
 "metadata": {
  "kernelspec": {
   "display_name": "Python 3 (ipykernel)",
   "language": "python",
   "name": "python3"
  },
  "language_info": {
   "codemirror_mode": {
    "name": "ipython",
    "version": 3
   },
   "file_extension": ".py",
   "mimetype": "text/x-python",
   "name": "python",
   "nbconvert_exporter": "python",
   "pygments_lexer": "ipython3",
   "version": "3.12.3"
  }
 },
 "nbformat": 4,
 "nbformat_minor": 5
}
