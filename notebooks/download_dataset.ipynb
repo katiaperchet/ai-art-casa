{
 "cells": [
  {
   "cell_type": "code",
   "execution_count": 2,
   "id": "6660b993-689d-4ecf-9b16-19724d226d69",
   "metadata": {},
   "source": [
    "# Set Kaggle Credentials - Environment\n",
    "import os\n",
    "os.environ['KAGGLE_USERNAME'] = \"SET_KAGGLE_USERNAME\"\n",
    "os.environ['KAGGLE_KEY'] = \"SET_KAGGLE_API_KEY\"\n",
    "    "
   ],
   "outputs": []
  },
  {
   "cell_type": "code",
   "id": "f7d017d0-1f1c-4ce7-ba22-f3be0d86d811",
   "metadata": {
    "ExecuteTime": {
     "end_time": "2024-05-05T01:53:43.276606Z",
     "start_time": "2024-05-05T01:04:53.762114Z"
    }
   },
   "source": [
    "# Download Dataset\n",
    "!kaggle datasets download -d ravidussilva/real-ai-art -p ../datasets/ --unzip"
   ],
   "execution_count": 1,
   "outputs": []
  },
  {
   "metadata": {},
   "cell_type": "code",
   "execution_count": null,
   "source": "",
   "id": "95d2062a36703327",
   "outputs": []
  },
  {
   "cell_type": "code",
   "execution_count": null,
   "id": "fe52a601-c70f-4b7b-9c8e-3902d1cd6112",
   "metadata": {},
   "source": [],
   "outputs": []
  }
 ],
 "metadata": {
  "kernelspec": {
   "display_name": "Python 3 (ipykernel)",
   "language": "python",
   "name": "python3"
  },
  "language_info": {
   "codemirror_mode": {
    "name": "ipython",
    "version": 3
   },
   "file_extension": ".py",
   "mimetype": "text/x-python",
   "name": "python",
   "nbconvert_exporter": "python",
   "pygments_lexer": "ipython3",
   "version": "3.12.3"
  }
 },
 "nbformat": 4,
 "nbformat_minor": 5
}
