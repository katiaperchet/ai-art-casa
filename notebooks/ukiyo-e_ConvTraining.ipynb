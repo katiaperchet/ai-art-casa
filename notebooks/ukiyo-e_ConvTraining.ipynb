{
 "cells": [
  {
   "cell_type": "code",
   "execution_count": 1,
   "id": "b112b4b4-b7c6-425a-b60c-348c1b3f5ffc",
   "metadata": {
    "ExecuteTime": {
     "end_time": "2024-05-28T15:38:54.968931Z",
     "start_time": "2024-05-28T15:38:54.962918Z"
    }
   },
   "outputs": [],
   "source": [
    "# Set Kaggle API - Username / Key\n",
    "import os\n",
    "os.environ['KAGGLE_USERNAME'] = \"franconicolsmerenda\"\n",
    "os.environ['KAGGLE_KEY'] = \"edcd91fb1521ad3ee181a8b093795eab\"\n",
    "os.environ['DATASET_FOLDER'] = \"/home/millenium-falcon/SoftwareProjects/ai-art-casa/notebooks/.datasets\"\n",
    "os.environ['ART_STYLE'] = \"ukiyo-e\"\n",
    "\n",
    "# DATASET Folders\n",
    "os.environ['TRAIN_DATASET_ART_STYLE'] = f\"{os.environ['DATASET_FOLDER']}/Real_AI_SD_LD_Dataset/train\"\n",
    "os.environ['TEST_DATASET_ART_STYLE'] = f\"{os.environ['DATASET_FOLDER']}/Real_AI_SD_LD_Dataset/test\"\n",
    "\n",
    "# Data to be consumed by the model!\n",
    "os.environ['TOP_DIR']=f\"{os.environ['DATASET_FOLDER']}/{os.environ['ART_STYLE']}\"\n",
    "os.environ['TRAIN_ART_STYLE_DATA'] = f\"{os.environ['DATASET_FOLDER']}/{os.environ['ART_STYLE']}/train\"\n",
    "os.environ['VALID_ART_STYLE_DATA'] = f\"{os.environ['DATASET_FOLDER']}/{os.environ['ART_STYLE']}/valid\""
   ]
  },
  {
   "cell_type": "code",
   "execution_count": 2,
   "id": "85e50d4c-4c2c-4205-8a77-4d6bd474d870",
   "metadata": {
    "ExecuteTime": {
     "end_time": "2024-05-24T07:48:11.189961Z",
     "start_time": "2024-05-24T07:48:11.185654Z"
    }
   },
   "outputs": [
    {
     "name": "stdout",
     "output_type": "stream",
     "text": [
      "Folder already exists.\n"
     ]
    }
   ],
   "source": [
    "# Download Datasets if Needed\n",
    "import os\n",
    "\n",
    "# Define the folder path\n",
    "folder_path = f\"{os.environ['DATASET_FOLDER']}\"\n",
    "\n",
    "# Check if the folder exists\n",
    "if not os.path.exists(f\"{folder_path}/Real_AI_SD_LD_Dataset\"):\n",
    "    # Install kaggle package\n",
    "    !pip install -q kaggle\n",
    "    # Download the dataset from Kaggle\n",
    "    !kaggle datasets download -d ravidussilva/real-ai-art -p $folder_path --unzip\n",
    "else:\n",
    "    print(\"Folder already exists.\")"
   ]
  },
  {
   "cell_type": "code",
   "execution_count": 3,
   "id": "0b1ff207-e37a-437d-9429-23651922008c",
   "metadata": {
    "ExecuteTime": {
     "end_time": "2024-05-24T07:48:24.428894Z",
     "start_time": "2024-05-24T07:48:16.930879Z"
    }
   },
   "outputs": [],
   "source": [
    "# Set Art Style Dataset\n",
    "\n",
    "# 1. Make clean data\n",
    "!rm -rf $TRAIN_ART_STYLE_DATA\n",
    "!rm -rf $VALID_ART_STYLE_DATA\n",
    "\n",
    "# 2. Create folders of the current art style training/validation data\n",
    "!mkdir -p $TRAIN_ART_STYLE_DATA/AI_GENERATED_$ART_STYLE\n",
    "!mkdir -p $TRAIN_ART_STYLE_DATA/$ART_STYLE\n",
    "\n",
    "!mkdir -p $VALID_ART_STYLE_DATA/AI_GENERATED_$ART_STYLE\n",
    "!mkdir -p $VALID_ART_STYLE_DATA/$ART_STYLE\n",
    "\n",
    "# 3. Load with data from DATASET\n",
    "!cp -r $TRAIN_DATASET_ART_STYLE/AI_LD_$ART_STYLE/*.jpg $TRAIN_ART_STYLE_DATA/AI_GENERATED_$ART_STYLE\n",
    "!cp -r $TRAIN_DATASET_ART_STYLE/AI_SD_$ART_STYLE/*.jpg $TRAIN_ART_STYLE_DATA/AI_GENERATED_$ART_STYLE\n",
    "!cp -r $TRAIN_DATASET_ART_STYLE/$ART_STYLE/*.jpg $TRAIN_ART_STYLE_DATA/$ART_STYLE\n",
    "\n",
    "!cp -r $TEST_DATASET_ART_STYLE/AI_LD_$ART_STYLE/*.jpg $VALID_ART_STYLE_DATA/AI_GENERATED_$ART_STYLE\n",
    "!cp -r $TEST_DATASET_ART_STYLE/AI_SD_$ART_STYLE/*.jpg $VALID_ART_STYLE_DATA/AI_GENERATED_$ART_STYLE\n",
    "!cp -r $TEST_DATASET_ART_STYLE/$ART_STYLE/*.jpg $VALID_ART_STYLE_DATA/$ART_STYLE"
   ]
  },
  {
   "cell_type": "code",
   "execution_count": 4,
   "id": "3fc81345-1e48-4b60-be2c-0b89781333cf",
   "metadata": {
    "ExecuteTime": {
     "end_time": "2024-05-24T07:48:29.909630Z",
     "start_time": "2024-05-24T07:48:26.881428Z"
    }
   },
   "outputs": [
    {
     "name": "stderr",
     "output_type": "stream",
     "text": [
      "2024-07-19 08:34:39.048587: I tensorflow/core/platform/cpu_feature_guard.cc:210] This TensorFlow binary is optimized to use available CPU instructions in performance-critical operations.\n",
      "To enable the following instructions: AVX2 FMA, in other operations, rebuild TensorFlow with the appropriate compiler flags.\n",
      "2024-07-19 08:34:39.524745: W tensorflow/compiler/tf2tensorrt/utils/py_utils.cc:38] TF-TRT Warning: Could not find TensorRT\n"
     ]
    }
   ],
   "source": [
    "#Import Dependencies\n",
    "import numpy as np\n",
    "import matplotlib.pyplot as plt\n",
    "import tensorflow as tf\n",
    "from tensorflow.keras.applications import VGG19\n",
    "from tensorflow.keras.applications.vgg19 import preprocess_input\n",
    "from tensorflow.keras.models import Model, Sequential\n",
    "from keras.layers import Rescaling, Conv2D, MaxPooling2D, Flatten, Dense, BatchNormalization, Activation, Dropout\n",
    "from tensorflow.keras.optimizers import Adam\n",
    "from tensorflow.keras.preprocessing.image import ImageDataGenerator\n",
    "from tensorflow.keras.callbacks import EarlyStopping\n",
    "import pandas as pd"
   ]
  },
  {
   "cell_type": "code",
   "execution_count": 5,
   "id": "faa8a89a-aed3-42bd-ada6-05d510ffab21",
   "metadata": {
    "ExecuteTime": {
     "end_time": "2024-05-24T07:48:35.546352Z",
     "start_time": "2024-05-24T07:48:35.544061Z"
    }
   },
   "outputs": [],
   "source": [
    "# Define paths to training and validation data\n",
    "train_data_dir = os.environ['TRAIN_ART_STYLE_DATA']\n",
    "valid_data_dir = os.environ['VALID_ART_STYLE_DATA']\n",
    "\n",
    "# Define constants\n",
    "IMG_WIDTH, IMG_HEIGHT = 256, 256\n",
    "BATCH_SIZE = 64\n",
    "NUM_EPOCHS = 25"
   ]
  },
  {
   "cell_type": "code",
   "execution_count": 6,
   "id": "90f01546-6134-45aa-ad3b-97b6150016d9",
   "metadata": {
    "ExecuteTime": {
     "end_time": "2024-05-24T07:48:43.353307Z",
     "start_time": "2024-05-24T07:48:43.349163Z"
    }
   },
   "outputs": [
    {
     "name": "stdout",
     "output_type": "stream",
     "text": [
      "Train directories containing human-drawn images:\n",
      "0. /home/millenium-falcon/SoftwareProjects/ai-art-casa/notebooks/.datasets/ukiyo-e/train/ukiyo-e\n",
      "\n",
      "Train directories containing AI-generated images:\n",
      "0. /home/millenium-falcon/SoftwareProjects/ai-art-casa/notebooks/.datasets/ukiyo-e/train/AI_GENERATED_ukiyo-e\n"
     ]
    }
   ],
   "source": [
    "top_dir = os.environ['TOP_DIR']\n",
    "\n",
    "# Define the training paths\n",
    "train_dir = os.path.join(top_dir, 'train')\n",
    "\n",
    "# List all directories in the train directory\n",
    "all_directories = os.listdir(train_dir)\n",
    "\n",
    "# Initialize lists to store directories for human-drawn and AI-generated images\n",
    "train_human = []\n",
    "train_ai = []\n",
    "\n",
    "# Loop through all directories\n",
    "for directory in all_directories:\n",
    "    # Check if the directory represents human-drawn images\n",
    "    if not directory.startswith('AI_'):\n",
    "        train_human.append(os.path.join(train_dir, directory))\n",
    "    # Check if the directory represents AI-generated images\n",
    "    else:\n",
    "        train_ai.append(os.path.join(train_dir, directory))\n",
    "\n",
    "# Print the lists of directories\n",
    "print(\"Train directories containing human-drawn images:\")\n",
    "for i, directory in enumerate(train_human):\n",
    "    print(f\"{i}. {directory}\")\n",
    "\n",
    "print(\"\\nTrain directories containing AI-generated images:\")\n",
    "for i, directory in enumerate(train_ai):\n",
    "    print(f\"{i}. {directory}\")"
   ]
  },
  {
   "cell_type": "code",
   "execution_count": 7,
   "id": "a1158c2a-8eab-489e-9419-2c25c2d9a5d4",
   "metadata": {
    "ExecuteTime": {
     "end_time": "2024-05-24T07:48:45.812422Z",
     "start_time": "2024-05-24T07:48:45.808555Z"
    }
   },
   "outputs": [
    {
     "name": "stdout",
     "output_type": "stream",
     "text": [
      "Test directories containing human-drawn images:\n",
      "0. /home/millenium-falcon/SoftwareProjects/ai-art-casa/notebooks/.datasets/ukiyo-e/valid/ukiyo-e\n",
      "\n",
      "Test directories containing AI-generated images:\n",
      "0. /home/millenium-falcon/SoftwareProjects/ai-art-casa/notebooks/.datasets/ukiyo-e/valid/AI_GENERATED_ukiyo-e\n"
     ]
    }
   ],
   "source": [
    "# Define the test paths\n",
    "test_dir = os.path.join(top_dir, 'valid')\n",
    "\n",
    "# List all directories in the test directory\n",
    "all_directories = os.listdir(test_dir)\n",
    "\n",
    "# Initialize lists to store directories for human-drawn and AI-generated images\n",
    "test_human = []\n",
    "test_ai = []\n",
    "\n",
    "# Loop through all directories\n",
    "for directory in all_directories:\n",
    "    # Check if the directory represents human-drawn images\n",
    "    if not directory.startswith('AI_'):\n",
    "        test_human.append(os.path.join(test_dir, directory))\n",
    "    # Check if the directory represents AI-generated images\n",
    "    else:\n",
    "        test_ai.append(os.path.join(test_dir, directory))\n",
    "\n",
    "# Print the lists of directories\n",
    "print(\"Test directories containing human-drawn images:\")\n",
    "for i, directory in enumerate(test_human):\n",
    "    print(f\"{i}. {directory}\")\n",
    "\n",
    "print(\"\\nTest directories containing AI-generated images:\")\n",
    "for i, directory in enumerate(test_ai):\n",
    "    print(f\"{i}. {directory}\")"
   ]
  },
  {
   "cell_type": "code",
   "execution_count": 8,
   "id": "46d14a2b-fcef-43bf-a886-98b6bbc8a58e",
   "metadata": {
    "ExecuteTime": {
     "end_time": "2024-05-24T07:48:58.032021Z",
     "start_time": "2024-05-24T07:48:58.001860Z"
    }
   },
   "outputs": [],
   "source": [
    "# Initialize lists to store file paths and labels\n",
    "filepaths = []\n",
    "labels = []\n",
    "\n",
    "# Initialize an empty DataFrame for train_data\n",
    "train_data = pd.DataFrame(columns=['filepath', 'label'])\n",
    "\n",
    "# Label files under train_human as \"human\"\n",
    "for directory in train_human:\n",
    "    for file in os.listdir(directory):\n",
    "        filepath = os.path.join(directory, file)\n",
    "        filepaths.append(filepath)\n",
    "        labels.append(\"human\")\n",
    "\n",
    "# Label files under train_ai as \"AI\"\n",
    "for directory in train_ai:\n",
    "    for file in os.listdir(directory):\n",
    "        filepath = os.path.join(directory, file)\n",
    "        filepaths.append(filepath)\n",
    "        labels.append(\"AI\")\n",
    "\n",
    "# Create a DataFrame with file paths and labels\n",
    "data = pd.DataFrame({'filepath': filepaths, 'label': labels})\n",
    "\n",
    "# Concatenate data with train_data\n",
    "train_data = pd.concat([train_data, data], ignore_index=True)"
   ]
  },
  {
   "cell_type": "code",
   "execution_count": 9,
   "id": "1f5dd412-3f61-4bdb-8a59-1dcb5dcc0aee",
   "metadata": {
    "ExecuteTime": {
     "end_time": "2024-05-24T07:49:00.807326Z",
     "start_time": "2024-05-24T07:49:00.804149Z"
    }
   },
   "outputs": [
    {
     "name": "stdout",
     "output_type": "stream",
     "text": [
      "                                            filepath  label\n",
      "0  /home/millenium-falcon/SoftwareProjects/ai-art...  human\n",
      "1  /home/millenium-falcon/SoftwareProjects/ai-art...  human\n",
      "2  /home/millenium-falcon/SoftwareProjects/ai-art...  human\n",
      "3  /home/millenium-falcon/SoftwareProjects/ai-art...  human\n",
      "4  /home/millenium-falcon/SoftwareProjects/ai-art...  human\n"
     ]
    }
   ],
   "source": [
    "# Display the first few rows of the train_data DataFrame\n",
    "print(train_data.head())"
   ]
  },
  {
   "cell_type": "code",
   "execution_count": 10,
   "id": "9b4d6b65-6923-4407-883d-0ad9778ed0ad",
   "metadata": {
    "ExecuteTime": {
     "end_time": "2024-05-24T07:49:10.543366Z",
     "start_time": "2024-05-24T07:49:10.538657Z"
    }
   },
   "outputs": [
    {
     "name": "stdout",
     "output_type": "stream",
     "text": [
      "Number of files under each label:\n",
      "label\n",
      "AI       10812\n",
      "human     5000\n",
      "Name: count, dtype: int64\n"
     ]
    }
   ],
   "source": [
    "# Count the number of files under each label\n",
    "file_counts = train_data['label'].value_counts()\n",
    "\n",
    "# Print the counts\n",
    "print(\"Number of files under each label:\")\n",
    "print(file_counts)"
   ]
  },
  {
   "cell_type": "code",
   "execution_count": 14,
   "id": "8bf067f2-0029-4d76-81eb-ab4aff119f9c",
   "metadata": {
    "ExecuteTime": {
     "end_time": "2024-05-24T07:49:17.359439Z",
     "start_time": "2024-05-24T07:49:17.354652Z"
    }
   },
   "outputs": [],
   "source": [
    "#BALANCE OFF\n",
    "\n",
    "# Set the random seed for reproducibility\n",
    "random_seed = 123  # Change this to your desired seed number\n",
    "np.random.seed(random_seed)\n",
    "\n",
    "# Number of rows to drop for the 'AI' label\n",
    "num_to_drop = 0 #5480\n",
    "\n",
    "# Get the indices of rows with the 'AI' label\n",
    "ai_indices = train_data[train_data['label'] == 'AI'].index\n",
    "\n",
    "# Randomly select indices to drop using the specified seed\n",
    "indices_to_drop = np.random.choice(ai_indices, num_to_drop, replace=False)\n",
    "\n",
    "# Drop the selected rows from the DataFrame\n",
    "train_data = train_data.drop(indices_to_drop)\n",
    "\n",
    "# Reset the index of the DataFrame after dropping rows\n",
    "train_data.reset_index(drop=True, inplace=True)"
   ]
  },
  {
   "cell_type": "code",
   "execution_count": 11,
   "id": "473e1e32-951d-471b-8e00-29ce5dfff6de",
   "metadata": {
    "ExecuteTime": {
     "end_time": "2024-05-24T07:49:21.861026Z",
     "start_time": "2024-05-24T07:49:21.856855Z"
    }
   },
   "outputs": [
    {
     "name": "stdout",
     "output_type": "stream",
     "text": [
      "                                            filepath  label\n",
      "0  /home/millenium-falcon/SoftwareProjects/ai-art...  human\n",
      "1  /home/millenium-falcon/SoftwareProjects/ai-art...  human\n",
      "2  /home/millenium-falcon/SoftwareProjects/ai-art...  human\n",
      "3  /home/millenium-falcon/SoftwareProjects/ai-art...  human\n",
      "4  /home/millenium-falcon/SoftwareProjects/ai-art...  human\n",
      "\n",
      "Number of files under each label:\n",
      "label\n",
      "AI       10812\n",
      "human     5000\n",
      "Name: count, dtype: int64\n"
     ]
    }
   ],
   "source": [
    "# Display the first few rows of the train_data DataFrame\n",
    "print(train_data.head())\n",
    "\n",
    "# Count the number of files under each label\n",
    "file_counts = train_data['label'].value_counts()\n",
    "\n",
    "# Print the counts\n",
    "print(\"\\nNumber of files under each label:\")\n",
    "print(file_counts)"
   ]
  },
  {
   "cell_type": "code",
   "execution_count": 12,
   "id": "6425fb35-b893-4a6d-b31f-a47be98037ef",
   "metadata": {
    "ExecuteTime": {
     "end_time": "2024-05-24T07:49:26.878528Z",
     "start_time": "2024-05-24T07:49:26.870626Z"
    }
   },
   "outputs": [],
   "source": [
    "# Initialize lists to store file paths and labels\n",
    "filepaths = []\n",
    "labels = []\n",
    "\n",
    "# Initialize an empty DataFrame for test_data\n",
    "test_data = pd.DataFrame(columns=['filepath', 'label'])\n",
    "\n",
    "# Label files under test_human as \"human\"\n",
    "for directory in test_human:\n",
    "    for file in os.listdir(directory):\n",
    "        filepath = os.path.join(directory, file)\n",
    "        filepaths.append(filepath)\n",
    "        labels.append(\"human\")\n",
    "\n",
    "# Label files under test_ai as \"AI\"\n",
    "for directory in test_ai:\n",
    "    for file in os.listdir(directory):\n",
    "        filepath = os.path.join(directory, file)\n",
    "        filepaths.append(filepath)\n",
    "        labels.append(\"AI\")\n",
    "\n",
    "# Create a DataFrame with file paths and labels\n",
    "data = pd.DataFrame({'filepath': filepaths, 'label': labels})\n",
    "\n",
    "# Concatenate data with test_data\n",
    "test_data = pd.concat([test_data, data], ignore_index=True)"
   ]
  },
  {
   "cell_type": "code",
   "execution_count": 13,
   "id": "f904c8f3-11b6-4c35-8233-a64a7e82dcc7",
   "metadata": {
    "ExecuteTime": {
     "end_time": "2024-05-24T07:49:29.442976Z",
     "start_time": "2024-05-24T07:49:29.438876Z"
    }
   },
   "outputs": [
    {
     "name": "stdout",
     "output_type": "stream",
     "text": [
      "                                            filepath  label\n",
      "0  /home/millenium-falcon/SoftwareProjects/ai-art...  human\n",
      "1  /home/millenium-falcon/SoftwareProjects/ai-art...  human\n",
      "2  /home/millenium-falcon/SoftwareProjects/ai-art...  human\n",
      "3  /home/millenium-falcon/SoftwareProjects/ai-art...  human\n",
      "4  /home/millenium-falcon/SoftwareProjects/ai-art...  human\n",
      "\n",
      "Number of files under each label:\n",
      "label\n",
      "AI       2000\n",
      "human    1000\n",
      "Name: count, dtype: int64\n"
     ]
    }
   ],
   "source": [
    "# Display the first few rows of the test_data DataFrame\n",
    "print(test_data.head())\n",
    "\n",
    "# Count the number of files under each label\n",
    "file_counts = test_data['label'].value_counts()\n",
    "\n",
    "# Print the counts\n",
    "print(\"\\nNumber of files under each label:\")\n",
    "print(file_counts)"
   ]
  },
  {
   "cell_type": "code",
   "execution_count": 14,
   "id": "7a8c277e-fb79-4547-8d94-c1a53e9184b8",
   "metadata": {
    "ExecuteTime": {
     "end_time": "2024-05-24T07:49:33.780264Z",
     "start_time": "2024-05-24T07:49:33.722238Z"
    }
   },
   "outputs": [
    {
     "name": "stdout",
     "output_type": "stream",
     "text": [
      "Found 15812 validated image filenames belonging to 2 classes.\n"
     ]
    }
   ],
   "source": [
    "training_generator = ImageDataGenerator(rescale=1./255  # to normalize pixel value\n",
    "                                       # rotation_range=7, # it will apply rotations to the image\n",
    "                                       # horizontal_flip=True, # it will flip image horizontally\n",
    "                                       # zoom_range=0.2  # it will increase and decrease zoom by 0.2x\n",
    "                                       )\n",
    "train_dataset = training_generator.flow_from_dataframe(\n",
    "    dataframe=train_data,\n",
    "    x_col='filepath',  # Column containing file paths\n",
    "    y_col='label',     # Column containing labels\n",
    "    target_size=(32, 32),\n",
    "    batch_size=64,\n",
    "    class_mode='categorical',  \n",
    "    shuffle=True\n",
    ")"
   ]
  },
  {
   "cell_type": "code",
   "execution_count": 15,
   "id": "58e2f388-5948-4634-bac3-2ef720997a0e",
   "metadata": {
    "ExecuteTime": {
     "end_time": "2024-05-24T07:49:34.657411Z",
     "start_time": "2024-05-24T07:49:34.654275Z"
    }
   },
   "outputs": [
    {
     "data": {
      "text/plain": [
       "{'AI': 0, 'human': 1}"
      ]
     },
     "execution_count": 15,
     "metadata": {},
     "output_type": "execute_result"
    }
   ],
   "source": [
    "train_dataset.class_indices"
   ]
  },
  {
   "cell_type": "code",
   "execution_count": 16,
   "id": "17ded983-049a-4a4e-834b-f3368daa9de0",
   "metadata": {
    "ExecuteTime": {
     "end_time": "2024-05-24T07:49:37.134057Z",
     "start_time": "2024-05-24T07:49:37.112818Z"
    }
   },
   "outputs": [
    {
     "name": "stdout",
     "output_type": "stream",
     "text": [
      "Found 3000 validated image filenames belonging to 2 classes.\n"
     ]
    },
    {
     "data": {
      "text/plain": [
       "{'AI': 0, 'human': 1}"
      ]
     },
     "execution_count": 16,
     "metadata": {},
     "output_type": "execute_result"
    }
   ],
   "source": [
    "test_generator = ImageDataGenerator(rescale=1./255,\n",
    "    validation_split=0.2,\n",
    "    rotation_range=20,\n",
    "    width_shift_range=0.2,\n",
    "    height_shift_range=0.2,\n",
    "    shear_range=0.2,\n",
    "    zoom_range=0.2,\n",
    "    horizontal_flip=True,\n",
    "    fill_mode='nearest')\n",
    "test_dataset = test_generator.flow_from_dataframe(  dataframe=test_data,\n",
    "                                                    x_col='filepath',  # Column containing file paths\n",
    "                                                    y_col='label',     # Column containing labels\n",
    "                                                    target_size = (32, 32),\n",
    "                                                    batch_size = 1,    # 1 image at a time to evaluate the NN\n",
    "                                                    class_mode = 'categorical',\n",
    "                                                    shuffle = False\n",
    "                                                     )   # to associate the prediction with expected output\n",
    "\n",
    "test_dataset.class_indices"
   ]
  },
  {
   "cell_type": "code",
   "execution_count": 17,
   "id": "97bac3de-e382-48a1-8604-bd1a5401f32d",
   "metadata": {
    "ExecuteTime": {
     "end_time": "2024-05-24T07:49:39.532523Z",
     "start_time": "2024-05-24T07:49:39.303069Z"
    }
   },
   "outputs": [
    {
     "name": "stderr",
     "output_type": "stream",
     "text": [
      "/home/millenium-falcon/.local/lib/python3.10/site-packages/keras/src/layers/convolutional/base_conv.py:107: UserWarning: Do not pass an `input_shape`/`input_dim` argument to a layer. When using Sequential models, prefer using an `Input(shape)` object as the first layer in the model instead.\n",
      "  super().__init__(activity_regularizer=activity_regularizer, **kwargs)\n",
      "2024-07-19 08:35:10.261712: I external/local_xla/xla/stream_executor/cuda/cuda_executor.cc:998] successful NUMA node read from SysFS had negative value (-1), but there must be at least one NUMA node, so returning NUMA node zero. See more at https://github.com/torvalds/linux/blob/v6.0/Documentation/ABI/testing/sysfs-bus-pci#L344-L355\n",
      "2024-07-19 08:35:10.308206: I external/local_xla/xla/stream_executor/cuda/cuda_executor.cc:998] successful NUMA node read from SysFS had negative value (-1), but there must be at least one NUMA node, so returning NUMA node zero. See more at https://github.com/torvalds/linux/blob/v6.0/Documentation/ABI/testing/sysfs-bus-pci#L344-L355\n",
      "2024-07-19 08:35:10.308408: I external/local_xla/xla/stream_executor/cuda/cuda_executor.cc:998] successful NUMA node read from SysFS had negative value (-1), but there must be at least one NUMA node, so returning NUMA node zero. See more at https://github.com/torvalds/linux/blob/v6.0/Documentation/ABI/testing/sysfs-bus-pci#L344-L355\n",
      "2024-07-19 08:35:10.309490: I external/local_xla/xla/stream_executor/cuda/cuda_executor.cc:998] successful NUMA node read from SysFS had negative value (-1), but there must be at least one NUMA node, so returning NUMA node zero. See more at https://github.com/torvalds/linux/blob/v6.0/Documentation/ABI/testing/sysfs-bus-pci#L344-L355\n",
      "2024-07-19 08:35:10.309653: I external/local_xla/xla/stream_executor/cuda/cuda_executor.cc:998] successful NUMA node read from SysFS had negative value (-1), but there must be at least one NUMA node, so returning NUMA node zero. See more at https://github.com/torvalds/linux/blob/v6.0/Documentation/ABI/testing/sysfs-bus-pci#L344-L355\n",
      "2024-07-19 08:35:10.309802: I external/local_xla/xla/stream_executor/cuda/cuda_executor.cc:998] successful NUMA node read from SysFS had negative value (-1), but there must be at least one NUMA node, so returning NUMA node zero. See more at https://github.com/torvalds/linux/blob/v6.0/Documentation/ABI/testing/sysfs-bus-pci#L344-L355\n",
      "2024-07-19 08:35:10.372058: I external/local_xla/xla/stream_executor/cuda/cuda_executor.cc:998] successful NUMA node read from SysFS had negative value (-1), but there must be at least one NUMA node, so returning NUMA node zero. See more at https://github.com/torvalds/linux/blob/v6.0/Documentation/ABI/testing/sysfs-bus-pci#L344-L355\n",
      "2024-07-19 08:35:10.372223: I external/local_xla/xla/stream_executor/cuda/cuda_executor.cc:998] successful NUMA node read from SysFS had negative value (-1), but there must be at least one NUMA node, so returning NUMA node zero. See more at https://github.com/torvalds/linux/blob/v6.0/Documentation/ABI/testing/sysfs-bus-pci#L344-L355\n",
      "2024-07-19 08:35:10.372368: I external/local_xla/xla/stream_executor/cuda/cuda_executor.cc:998] successful NUMA node read from SysFS had negative value (-1), but there must be at least one NUMA node, so returning NUMA node zero. See more at https://github.com/torvalds/linux/blob/v6.0/Documentation/ABI/testing/sysfs-bus-pci#L344-L355\n",
      "2024-07-19 08:35:10.372483: I tensorflow/core/common_runtime/gpu/gpu_device.cc:1928] Created device /job:localhost/replica:0/task:0/device:GPU:0 with 6109 MB memory:  -> device: 0, name: NVIDIA GeForce RTX 3070 Ti, pci bus id: 0000:07:00.0, compute capability: 8.6\n"
     ]
    },
    {
     "data": {
      "text/html": [
       "<pre style=\"white-space:pre;overflow-x:auto;line-height:normal;font-family:Menlo,'DejaVu Sans Mono',consolas,'Courier New',monospace\"><span style=\"font-weight: bold\">Model: \"sequential\"</span>\n",
       "</pre>\n"
      ],
      "text/plain": [
       "\u001b[1mModel: \"sequential\"\u001b[0m\n"
      ]
     },
     "metadata": {},
     "output_type": "display_data"
    },
    {
     "data": {
      "text/html": [
       "<pre style=\"white-space:pre;overflow-x:auto;line-height:normal;font-family:Menlo,'DejaVu Sans Mono',consolas,'Courier New',monospace\">┏━━━━━━━━━━━━━━━━━━━━━━━━━━━━━━━━━┳━━━━━━━━━━━━━━━━━━━━━━━━┳━━━━━━━━━━━━━━━┓\n",
       "┃<span style=\"font-weight: bold\"> Layer (type)                    </span>┃<span style=\"font-weight: bold\"> Output Shape           </span>┃<span style=\"font-weight: bold\">       Param # </span>┃\n",
       "┡━━━━━━━━━━━━━━━━━━━━━━━━━━━━━━━━━╇━━━━━━━━━━━━━━━━━━━━━━━━╇━━━━━━━━━━━━━━━┩\n",
       "│ conv2d (<span style=\"color: #0087ff; text-decoration-color: #0087ff\">Conv2D</span>)                 │ (<span style=\"color: #00d7ff; text-decoration-color: #00d7ff\">None</span>, <span style=\"color: #00af00; text-decoration-color: #00af00\">30</span>, <span style=\"color: #00af00; text-decoration-color: #00af00\">30</span>, <span style=\"color: #00af00; text-decoration-color: #00af00\">512</span>)    │        <span style=\"color: #00af00; text-decoration-color: #00af00\">14,336</span> │\n",
       "├─────────────────────────────────┼────────────────────────┼───────────────┤\n",
       "│ max_pooling2d (<span style=\"color: #0087ff; text-decoration-color: #0087ff\">MaxPooling2D</span>)    │ (<span style=\"color: #00d7ff; text-decoration-color: #00d7ff\">None</span>, <span style=\"color: #00af00; text-decoration-color: #00af00\">15</span>, <span style=\"color: #00af00; text-decoration-color: #00af00\">15</span>, <span style=\"color: #00af00; text-decoration-color: #00af00\">512</span>)    │             <span style=\"color: #00af00; text-decoration-color: #00af00\">0</span> │\n",
       "├─────────────────────────────────┼────────────────────────┼───────────────┤\n",
       "│ conv2d_1 (<span style=\"color: #0087ff; text-decoration-color: #0087ff\">Conv2D</span>)               │ (<span style=\"color: #00d7ff; text-decoration-color: #00d7ff\">None</span>, <span style=\"color: #00af00; text-decoration-color: #00af00\">13</span>, <span style=\"color: #00af00; text-decoration-color: #00af00\">13</span>, <span style=\"color: #00af00; text-decoration-color: #00af00\">128</span>)    │       <span style=\"color: #00af00; text-decoration-color: #00af00\">589,952</span> │\n",
       "├─────────────────────────────────┼────────────────────────┼───────────────┤\n",
       "│ max_pooling2d_1 (<span style=\"color: #0087ff; text-decoration-color: #0087ff\">MaxPooling2D</span>)  │ (<span style=\"color: #00d7ff; text-decoration-color: #00d7ff\">None</span>, <span style=\"color: #00af00; text-decoration-color: #00af00\">6</span>, <span style=\"color: #00af00; text-decoration-color: #00af00\">6</span>, <span style=\"color: #00af00; text-decoration-color: #00af00\">128</span>)      │             <span style=\"color: #00af00; text-decoration-color: #00af00\">0</span> │\n",
       "├─────────────────────────────────┼────────────────────────┼───────────────┤\n",
       "│ conv2d_2 (<span style=\"color: #0087ff; text-decoration-color: #0087ff\">Conv2D</span>)               │ (<span style=\"color: #00d7ff; text-decoration-color: #00d7ff\">None</span>, <span style=\"color: #00af00; text-decoration-color: #00af00\">4</span>, <span style=\"color: #00af00; text-decoration-color: #00af00\">4</span>, <span style=\"color: #00af00; text-decoration-color: #00af00\">32</span>)       │        <span style=\"color: #00af00; text-decoration-color: #00af00\">36,896</span> │\n",
       "├─────────────────────────────────┼────────────────────────┼───────────────┤\n",
       "│ max_pooling2d_2 (<span style=\"color: #0087ff; text-decoration-color: #0087ff\">MaxPooling2D</span>)  │ (<span style=\"color: #00d7ff; text-decoration-color: #00d7ff\">None</span>, <span style=\"color: #00af00; text-decoration-color: #00af00\">2</span>, <span style=\"color: #00af00; text-decoration-color: #00af00\">2</span>, <span style=\"color: #00af00; text-decoration-color: #00af00\">32</span>)       │             <span style=\"color: #00af00; text-decoration-color: #00af00\">0</span> │\n",
       "├─────────────────────────────────┼────────────────────────┼───────────────┤\n",
       "│ flatten (<span style=\"color: #0087ff; text-decoration-color: #0087ff\">Flatten</span>)               │ (<span style=\"color: #00d7ff; text-decoration-color: #00d7ff\">None</span>, <span style=\"color: #00af00; text-decoration-color: #00af00\">128</span>)            │             <span style=\"color: #00af00; text-decoration-color: #00af00\">0</span> │\n",
       "├─────────────────────────────────┼────────────────────────┼───────────────┤\n",
       "│ dense (<span style=\"color: #0087ff; text-decoration-color: #0087ff\">Dense</span>)                   │ (<span style=\"color: #00d7ff; text-decoration-color: #00d7ff\">None</span>, <span style=\"color: #00af00; text-decoration-color: #00af00\">32</span>)             │         <span style=\"color: #00af00; text-decoration-color: #00af00\">4,128</span> │\n",
       "├─────────────────────────────────┼────────────────────────┼───────────────┤\n",
       "│ dense_1 (<span style=\"color: #0087ff; text-decoration-color: #0087ff\">Dense</span>)                 │ (<span style=\"color: #00d7ff; text-decoration-color: #00d7ff\">None</span>, <span style=\"color: #00af00; text-decoration-color: #00af00\">16</span>)             │           <span style=\"color: #00af00; text-decoration-color: #00af00\">528</span> │\n",
       "├─────────────────────────────────┼────────────────────────┼───────────────┤\n",
       "│ dense_2 (<span style=\"color: #0087ff; text-decoration-color: #0087ff\">Dense</span>)                 │ (<span style=\"color: #00d7ff; text-decoration-color: #00d7ff\">None</span>, <span style=\"color: #00af00; text-decoration-color: #00af00\">2</span>)              │            <span style=\"color: #00af00; text-decoration-color: #00af00\">34</span> │\n",
       "└─────────────────────────────────┴────────────────────────┴───────────────┘\n",
       "</pre>\n"
      ],
      "text/plain": [
       "┏━━━━━━━━━━━━━━━━━━━━━━━━━━━━━━━━━┳━━━━━━━━━━━━━━━━━━━━━━━━┳━━━━━━━━━━━━━━━┓\n",
       "┃\u001b[1m \u001b[0m\u001b[1mLayer (type)                   \u001b[0m\u001b[1m \u001b[0m┃\u001b[1m \u001b[0m\u001b[1mOutput Shape          \u001b[0m\u001b[1m \u001b[0m┃\u001b[1m \u001b[0m\u001b[1m      Param #\u001b[0m\u001b[1m \u001b[0m┃\n",
       "┡━━━━━━━━━━━━━━━━━━━━━━━━━━━━━━━━━╇━━━━━━━━━━━━━━━━━━━━━━━━╇━━━━━━━━━━━━━━━┩\n",
       "│ conv2d (\u001b[38;5;33mConv2D\u001b[0m)                 │ (\u001b[38;5;45mNone\u001b[0m, \u001b[38;5;34m30\u001b[0m, \u001b[38;5;34m30\u001b[0m, \u001b[38;5;34m512\u001b[0m)    │        \u001b[38;5;34m14,336\u001b[0m │\n",
       "├─────────────────────────────────┼────────────────────────┼───────────────┤\n",
       "│ max_pooling2d (\u001b[38;5;33mMaxPooling2D\u001b[0m)    │ (\u001b[38;5;45mNone\u001b[0m, \u001b[38;5;34m15\u001b[0m, \u001b[38;5;34m15\u001b[0m, \u001b[38;5;34m512\u001b[0m)    │             \u001b[38;5;34m0\u001b[0m │\n",
       "├─────────────────────────────────┼────────────────────────┼───────────────┤\n",
       "│ conv2d_1 (\u001b[38;5;33mConv2D\u001b[0m)               │ (\u001b[38;5;45mNone\u001b[0m, \u001b[38;5;34m13\u001b[0m, \u001b[38;5;34m13\u001b[0m, \u001b[38;5;34m128\u001b[0m)    │       \u001b[38;5;34m589,952\u001b[0m │\n",
       "├─────────────────────────────────┼────────────────────────┼───────────────┤\n",
       "│ max_pooling2d_1 (\u001b[38;5;33mMaxPooling2D\u001b[0m)  │ (\u001b[38;5;45mNone\u001b[0m, \u001b[38;5;34m6\u001b[0m, \u001b[38;5;34m6\u001b[0m, \u001b[38;5;34m128\u001b[0m)      │             \u001b[38;5;34m0\u001b[0m │\n",
       "├─────────────────────────────────┼────────────────────────┼───────────────┤\n",
       "│ conv2d_2 (\u001b[38;5;33mConv2D\u001b[0m)               │ (\u001b[38;5;45mNone\u001b[0m, \u001b[38;5;34m4\u001b[0m, \u001b[38;5;34m4\u001b[0m, \u001b[38;5;34m32\u001b[0m)       │        \u001b[38;5;34m36,896\u001b[0m │\n",
       "├─────────────────────────────────┼────────────────────────┼───────────────┤\n",
       "│ max_pooling2d_2 (\u001b[38;5;33mMaxPooling2D\u001b[0m)  │ (\u001b[38;5;45mNone\u001b[0m, \u001b[38;5;34m2\u001b[0m, \u001b[38;5;34m2\u001b[0m, \u001b[38;5;34m32\u001b[0m)       │             \u001b[38;5;34m0\u001b[0m │\n",
       "├─────────────────────────────────┼────────────────────────┼───────────────┤\n",
       "│ flatten (\u001b[38;5;33mFlatten\u001b[0m)               │ (\u001b[38;5;45mNone\u001b[0m, \u001b[38;5;34m128\u001b[0m)            │             \u001b[38;5;34m0\u001b[0m │\n",
       "├─────────────────────────────────┼────────────────────────┼───────────────┤\n",
       "│ dense (\u001b[38;5;33mDense\u001b[0m)                   │ (\u001b[38;5;45mNone\u001b[0m, \u001b[38;5;34m32\u001b[0m)             │         \u001b[38;5;34m4,128\u001b[0m │\n",
       "├─────────────────────────────────┼────────────────────────┼───────────────┤\n",
       "│ dense_1 (\u001b[38;5;33mDense\u001b[0m)                 │ (\u001b[38;5;45mNone\u001b[0m, \u001b[38;5;34m16\u001b[0m)             │           \u001b[38;5;34m528\u001b[0m │\n",
       "├─────────────────────────────────┼────────────────────────┼───────────────┤\n",
       "│ dense_2 (\u001b[38;5;33mDense\u001b[0m)                 │ (\u001b[38;5;45mNone\u001b[0m, \u001b[38;5;34m2\u001b[0m)              │            \u001b[38;5;34m34\u001b[0m │\n",
       "└─────────────────────────────────┴────────────────────────┴───────────────┘\n"
      ]
     },
     "metadata": {},
     "output_type": "display_data"
    },
    {
     "data": {
      "text/html": [
       "<pre style=\"white-space:pre;overflow-x:auto;line-height:normal;font-family:Menlo,'DejaVu Sans Mono',consolas,'Courier New',monospace\"><span style=\"font-weight: bold\"> Total params: </span><span style=\"color: #00af00; text-decoration-color: #00af00\">645,874</span> (2.46 MB)\n",
       "</pre>\n"
      ],
      "text/plain": [
       "\u001b[1m Total params: \u001b[0m\u001b[38;5;34m645,874\u001b[0m (2.46 MB)\n"
      ]
     },
     "metadata": {},
     "output_type": "display_data"
    },
    {
     "data": {
      "text/html": [
       "<pre style=\"white-space:pre;overflow-x:auto;line-height:normal;font-family:Menlo,'DejaVu Sans Mono',consolas,'Courier New',monospace\"><span style=\"font-weight: bold\"> Trainable params: </span><span style=\"color: #00af00; text-decoration-color: #00af00\">645,874</span> (2.46 MB)\n",
       "</pre>\n"
      ],
      "text/plain": [
       "\u001b[1m Trainable params: \u001b[0m\u001b[38;5;34m645,874\u001b[0m (2.46 MB)\n"
      ]
     },
     "metadata": {},
     "output_type": "display_data"
    },
    {
     "data": {
      "text/html": [
       "<pre style=\"white-space:pre;overflow-x:auto;line-height:normal;font-family:Menlo,'DejaVu Sans Mono',consolas,'Courier New',monospace\"><span style=\"font-weight: bold\"> Non-trainable params: </span><span style=\"color: #00af00; text-decoration-color: #00af00\">0</span> (0.00 B)\n",
       "</pre>\n"
      ],
      "text/plain": [
       "\u001b[1m Non-trainable params: \u001b[0m\u001b[38;5;34m0\u001b[0m (0.00 B)\n"
      ]
     },
     "metadata": {},
     "output_type": "display_data"
    }
   ],
   "source": [
    "from tensorflow.keras import regularizers\n",
    "\n",
    "network = Sequential()\n",
    "network.add(Conv2D(filters = 512, kernel_size = 3, input_shape = (32,32,3), activation='relu', kernel_regularizer=regularizers.l2(0.001)))\n",
    "network.add(MaxPooling2D(2,2))\n",
    "#network.add(Dropout(0.25))\n",
    "\n",
    "network.add(Conv2D(filters = 128, kernel_size = 3, activation='relu'))\n",
    "network.add(MaxPooling2D(2,2))\n",
    "\n",
    "\n",
    "network.add(Conv2D(filters = 32, kernel_size = 3, activation='relu'))\n",
    "network.add(MaxPooling2D(2,2))\n",
    "\n",
    "network.add(Flatten())\n",
    "network.add(Dense(units =32, activation='relu'))\n",
    "network.add(Dense(units =16, activation='relu'))\n",
    "network.add(Dense(units = 2, activation='softmax'))\n",
    "#network.add(Dropout(0.25))\n",
    "\n",
    "network.summary()"
   ]
  },
  {
   "cell_type": "code",
   "execution_count": 18,
   "id": "dd13ebe0-530e-45b6-a91b-f8936f1f8899",
   "metadata": {
    "ExecuteTime": {
     "end_time": "2024-05-24T07:49:42.647216Z",
     "start_time": "2024-05-24T07:49:42.640974Z"
    }
   },
   "outputs": [],
   "source": [
    "# Compile the model\n",
    "network.compile(optimizer='Adam', loss='categorical_crossentropy', metrics=['accuracy'])\n",
    "\n",
    "es = EarlyStopping(monitor='val_accuracy', mode='max', patience=5,  restore_best_weights=True)"
   ]
  },
  {
   "cell_type": "code",
   "execution_count": 19,
   "id": "b91dbdc0-164e-4ee5-8883-d2329d3d0c95",
   "metadata": {},
   "outputs": [
    {
     "name": "stdout",
     "output_type": "stream",
     "text": [
      "Epoch 1/30\n"
     ]
    },
    {
     "name": "stderr",
     "output_type": "stream",
     "text": [
      "/home/millenium-falcon/.local/lib/python3.10/site-packages/keras/src/trainers/data_adapters/py_dataset_adapter.py:121: UserWarning: Your `PyDataset` class should call `super().__init__(**kwargs)` in its constructor. `**kwargs` can include `workers`, `use_multiprocessing`, `max_queue_size`. Do not pass these arguments to `fit()`, as they will be ignored.\n",
      "  self._warn_if_super_not_called()\n",
      "WARNING: All log messages before absl::InitializeLog() is called are written to STDERR\n",
      "I0000 00:00:1721388916.621438  540693 service.cc:145] XLA service 0x7a20c800e940 initialized for platform CUDA (this does not guarantee that XLA will be used). Devices:\n",
      "I0000 00:00:1721388916.621461  540693 service.cc:153]   StreamExecutor device (0): NVIDIA GeForce RTX 3070 Ti, Compute Capability 8.6\n",
      "2024-07-19 08:35:16.659062: I tensorflow/compiler/mlir/tensorflow/utils/dump_mlir_util.cc:268] disabling MLIR crash reproducer, set env var `MLIR_CRASH_REPRODUCER_DIRECTORY` to enable.\n",
      "2024-07-19 08:35:16.800213: I external/local_xla/xla/stream_executor/cuda/cuda_dnn.cc:465] Loaded cuDNN version 8906\n"
     ]
    },
    {
     "name": "stdout",
     "output_type": "stream",
     "text": [
      "\u001b[1m  5/248\u001b[0m \u001b[37m━━━━━━━━━━━━━━━━━━━━\u001b[0m \u001b[1m10s\u001b[0m 44ms/step - accuracy: 0.2852 - loss: 0.7412"
     ]
    },
    {
     "name": "stderr",
     "output_type": "stream",
     "text": [
      "I0000 00:00:1721388918.378471  540693 device_compiler.h:188] Compiled cluster using XLA!  This line is logged at most once for the lifetime of the process.\n"
     ]
    },
    {
     "name": "stdout",
     "output_type": "stream",
     "text": [
      "\u001b[1m241/248\u001b[0m \u001b[32m━━━━━━━━━━━━━━━━━━━\u001b[0m\u001b[37m━\u001b[0m \u001b[1m0s\u001b[0m 61ms/step - accuracy: 0.7300 - loss: 0.4812"
     ]
    },
    {
     "name": "stderr",
     "output_type": "stream",
     "text": [
      "/home/millenium-falcon/.local/lib/python3.10/site-packages/keras/src/trainers/data_adapters/py_dataset_adapter.py:121: UserWarning: Your `PyDataset` class should call `super().__init__(**kwargs)` in its constructor. `**kwargs` can include `workers`, `use_multiprocessing`, `max_queue_size`. Do not pass these arguments to `fit()`, as they will be ignored.\n",
      "  self._warn_if_super_not_called()\n"
     ]
    },
    {
     "name": "stdout",
     "output_type": "stream",
     "text": [
      "\u001b[1m248/248\u001b[0m \u001b[32m━━━━━━━━━━━━━━━━━━━━\u001b[0m\u001b[37m\u001b[0m \u001b[1m22s\u001b[0m 78ms/step - accuracy: 0.7340 - loss: 0.4755 - val_accuracy: 0.6687 - val_loss: 0.8797\n",
      "Epoch 2/30\n",
      "\u001b[1m248/248\u001b[0m \u001b[32m━━━━━━━━━━━━━━━━━━━━\u001b[0m\u001b[37m\u001b[0m \u001b[1m19s\u001b[0m 75ms/step - accuracy: 0.9514 - loss: 0.1325 - val_accuracy: 0.7847 - val_loss: 0.5700\n",
      "Epoch 3/30\n",
      "\u001b[1m248/248\u001b[0m \u001b[32m━━━━━━━━━━━━━━━━━━━━\u001b[0m\u001b[37m\u001b[0m \u001b[1m19s\u001b[0m 73ms/step - accuracy: 0.9613 - loss: 0.1110 - val_accuracy: 0.6400 - val_loss: 1.1383\n",
      "Epoch 4/30\n",
      "\u001b[1m248/248\u001b[0m \u001b[32m━━━━━━━━━━━━━━━━━━━━\u001b[0m\u001b[37m\u001b[0m \u001b[1m19s\u001b[0m 73ms/step - accuracy: 0.9716 - loss: 0.0921 - val_accuracy: 0.8103 - val_loss: 0.5616\n",
      "Epoch 5/30\n",
      "\u001b[1m248/248\u001b[0m \u001b[32m━━━━━━━━━━━━━━━━━━━━\u001b[0m\u001b[37m\u001b[0m \u001b[1m18s\u001b[0m 71ms/step - accuracy: 0.9739 - loss: 0.0785 - val_accuracy: 0.7957 - val_loss: 0.4974\n",
      "Epoch 6/30\n",
      "\u001b[1m248/248\u001b[0m \u001b[32m━━━━━━━━━━━━━━━━━━━━\u001b[0m\u001b[37m\u001b[0m \u001b[1m18s\u001b[0m 71ms/step - accuracy: 0.9770 - loss: 0.0741 - val_accuracy: 0.5520 - val_loss: 1.7630\n",
      "Epoch 7/30\n",
      "\u001b[1m248/248\u001b[0m \u001b[32m━━━━━━━━━━━━━━━━━━━━\u001b[0m\u001b[37m\u001b[0m \u001b[1m18s\u001b[0m 72ms/step - accuracy: 0.9749 - loss: 0.0789 - val_accuracy: 0.7863 - val_loss: 0.5491\n",
      "Epoch 8/30\n",
      "\u001b[1m248/248\u001b[0m \u001b[32m━━━━━━━━━━━━━━━━━━━━\u001b[0m\u001b[37m\u001b[0m \u001b[1m18s\u001b[0m 72ms/step - accuracy: 0.9752 - loss: 0.0783 - val_accuracy: 0.7567 - val_loss: 0.8408\n",
      "Epoch 9/30\n",
      "\u001b[1m248/248\u001b[0m \u001b[32m━━━━━━━━━━━━━━━━━━━━\u001b[0m\u001b[37m\u001b[0m \u001b[1m18s\u001b[0m 73ms/step - accuracy: 0.9795 - loss: 0.0656 - val_accuracy: 0.5313 - val_loss: 1.9096\n"
     ]
    }
   ],
   "source": [
    "\n",
    "#TRAINING MODEL\n",
    "epochs=30\n",
    "\n",
    "history = network.fit(train_dataset, epochs=epochs, validation_data=test_dataset, callbacks=[es])"
   ]
  },
  {
   "cell_type": "code",
   "execution_count": 24,
   "id": "23630c1a-941e-4fc2-8e38-4fdbd6f6d85f",
   "metadata": {
    "jupyter": {
     "is_executing": true
    }
   },
   "outputs": [
    {
     "data": {
      "image/png": "[encoded data removed]",
      "text/plain": [
       "<Figure size 1000x500 with 2 Axes>"
      ]
     },
     "metadata": {},
     "output_type": "display_data"
    }
   ],
   "source": [
    "# Accuracy vs Loss\n",
    "\n",
    "# Plotting accuracy\n",
    "plt.figure(figsize=(10, 5))\n",
    "plt.subplot(1, 2, 1)\n",
    "plt.plot(history.history['accuracy'], label='Training Accuracy')\n",
    "plt.plot(history.history['val_accuracy'], label='Validation Accuracy')\n",
    "plt.xlabel('Epochs')\n",
    "plt.ylabel('Accuracy')\n",
    "plt.title('Model Accuracy')\n",
    "plt.legend()\n",
    "\n",
    "# Plotting loss\n",
    "plt.subplot(1, 2, 2)\n",
    "plt.plot(history.history['loss'], label='Training Loss')\n",
    "plt.plot(history.history['val_loss'], label='Validation Loss')\n",
    "plt.xlabel('Epochs')\n",
    "plt.ylabel('Loss')\n",
    "plt.title('Model Loss')\n",
    "plt.legend()\n",
    "\n",
    "plt.tight_layout()\n",
    "plt.show()"
   ]
  },
  {
   "cell_type": "code",
   "execution_count": null,
   "id": "aed4cb18-2e7b-48ef-9424-416c8f45a734",
   "metadata": {},
   "outputs": [],
   "source": []
  }
 ],
 "metadata": {
  "kernelspec": {
   "display_name": "Python 3 (ipykernel)",
   "language": "python",
   "name": "python3"
  },
  "language_info": {
   "codemirror_mode": {
    "name": "ipython",
    "version": 3
   },
   "file_extension": ".py",
   "mimetype": "text/x-python",
   "name": "python",
   "nbconvert_exporter": "python",
   "pygments_lexer": "ipython3",
   "version": "3.10.12"
  }
 },
 "nbformat": 4,
 "nbformat_minor": 5
}
