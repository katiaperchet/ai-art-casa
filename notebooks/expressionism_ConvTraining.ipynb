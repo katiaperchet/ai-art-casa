{
 "cells": [
  {
   "metadata": {},
   "cell_type": "markdown",
   "source": "## 1. Set Kaggle API information and dataset local directories",
   "id": "397643004bac094d"
  },
  {
   "cell_type": "code",
   "execution_count": 1,
   "id": "b112b4b4-b7c6-425a-b60c-348c1b3f5ffc",
   "metadata": {
    "ExecuteTime": {
     "end_time": "2024-05-28T15:38:54.968931Z",
     "start_time": "2024-05-28T15:38:54.962918Z"
    }
   },
   "outputs": [],
   "source": [
    "# Set Kaggle API - Username / Key to download the images\n",
    "import os\n",
    "os.environ['KAGGLE_USERNAME'] = \"franconicolsmerenda\"\n",
    "os.environ['KAGGLE_KEY'] = \"edcd91fb1521ad3ee181a8b093795eab\"\n",
    "os.environ['DATASET_FOLDER'] = \"/home/millenium-falcon/SoftwareProjects/ai-art-casa/.datasets\" #change this directory to the one where the data is\n",
    "os.environ['ART_STYLE'] = \"realism\"\n",
    "\n",
    "# DATASET Folders where to reach the images\n",
    "os.environ['TRAIN_DATASET_ART_STYLE'] = f\"{os.environ['DATASET_FOLDER']}/Real_AI_SD_LD_Dataset/train\"\n",
    "os.environ['TEST_DATASET_ART_STYLE'] = f\"{os.environ['DATASET_FOLDER']}/Real_AI_SD_LD_Dataset/test\"\n",
    "\n",
    "# Data Folder to be consumed by the model!\n",
    "os.environ['TOP_DIR']=f\"{os.environ['DATASET_FOLDER']}/{os.environ['ART_STYLE']}\"\n",
    "os.environ['TRAIN_ART_STYLE_DATA'] = f\"{os.environ['DATASET_FOLDER']}/{os.environ['ART_STYLE']}/train\"\n",
    "os.environ['VALID_ART_STYLE_DATA'] = f\"{os.environ['DATASET_FOLDER']}/{os.environ['ART_STYLE']}/valid\""
   ]
  },
  {
   "metadata": {},
   "cell_type": "markdown",
   "source": "## 2. Download dataset if it is not stored locally",
   "id": "7b052d8205158cc1"
  },
  {
   "cell_type": "code",
   "execution_count": 2,
   "id": "85e50d4c-4c2c-4205-8a77-4d6bd474d870",
   "metadata": {
    "ExecuteTime": {
     "end_time": "2024-05-24T07:48:11.189961Z",
     "start_time": "2024-05-24T07:48:11.185654Z"
    }
   },
   "outputs": [
    {
     "name": "stdout",
     "output_type": "stream",
     "text": [
      "Folder already exists.\n"
     ]
    }
   ],
   "source": [
    "# Download Datasets if Needed\n",
    "import os\n",
    "\n",
    "# Define the folder path\n",
    "folder_path = f\"{os.environ['DATASET_FOLDER']}\"\n",
    "\n",
    "# Check if the folder exists and download it if it doesnt\n",
    "if not os.path.exists(f\"{folder_path}/Real_AI_SD_LD_Dataset\"):\n",
    "    # Install kaggle package\n",
    "    !pip install -q kaggle\n",
    "    # Download the dataset from Kaggle\n",
    "    !kaggle datasets download -d ravidussilva/real-ai-art -p $folder_path --unzip\n",
    "else:\n",
    "    print(\"Folder already exists.\")"
   ]
  },
  {
   "metadata": {},
   "cell_type": "markdown",
   "source": "## 3. Copy and divide images into directories separating them by the requested Art Style",
   "id": "29257cc3d70dd58b"
  },
  {
   "cell_type": "code",
   "execution_count": 3,
   "id": "0b1ff207-e37a-437d-9429-23651922008c",
   "metadata": {
    "ExecuteTime": {
     "end_time": "2024-05-24T07:48:24.428894Z",
     "start_time": "2024-05-24T07:48:16.930879Z"
    }
   },
   "outputs": [],
   "source": [
    "# Set Art Style Dataset\n",
    "\n",
    "# 1. Make clean data\n",
    "!rm -rf $TRAIN_ART_STYLE_DATA\n",
    "!rm -rf $VALID_ART_STYLE_DATA\n",
    "\n",
    "# 2. Create folders of the current art style training/validation data\n",
    "!mkdir -p $TRAIN_ART_STYLE_DATA/AI_GENERATED_$ART_STYLE\n",
    "!mkdir -p $TRAIN_ART_STYLE_DATA/$ART_STYLE\n",
    "\n",
    "!mkdir -p $VALID_ART_STYLE_DATA/AI_GENERATED_$ART_STYLE\n",
    "!mkdir -p $VALID_ART_STYLE_DATA/$ART_STYLE\n",
    "\n",
    "# 3. Load with data from DATASET\n",
    "!cp -r $TRAIN_DATASET_ART_STYLE/AI_LD_$ART_STYLE/*.jpg $TRAIN_ART_STYLE_DATA/AI_GENERATED_$ART_STYLE\n",
    "!cp -r $TRAIN_DATASET_ART_STYLE/AI_SD_$ART_STYLE/*.jpg $TRAIN_ART_STYLE_DATA/AI_GENERATED_$ART_STYLE\n",
    "!cp -r $TRAIN_DATASET_ART_STYLE/$ART_STYLE/*.jpg $TRAIN_ART_STYLE_DATA/$ART_STYLE\n",
    "\n",
    "!cp -r $TEST_DATASET_ART_STYLE/AI_LD_$ART_STYLE/*.jpg $VALID_ART_STYLE_DATA/AI_GENERATED_$ART_STYLE\n",
    "!cp -r $TEST_DATASET_ART_STYLE/AI_SD_$ART_STYLE/*.jpg $VALID_ART_STYLE_DATA/AI_GENERATED_$ART_STYLE\n",
    "!cp -r $TEST_DATASET_ART_STYLE/$ART_STYLE/*.jpg $VALID_ART_STYLE_DATA/$ART_STYLE"
   ]
  },
  {
   "metadata": {},
   "cell_type": "markdown",
   "source": "## 4. Import the needed dependencies for the model and data visualization",
   "id": "ba7b6d5b5b6ed16a"
  },
  {
   "cell_type": "code",
   "execution_count": 4,
   "id": "3fc81345-1e48-4b60-be2c-0b89781333cf",
   "metadata": {
    "ExecuteTime": {
     "end_time": "2024-05-24T07:48:29.909630Z",
     "start_time": "2024-05-24T07:48:26.881428Z"
    }
   },
   "outputs": [
    {
     "name": "stderr",
     "output_type": "stream",
     "text": [
      "2024-07-18 10:56:58.470865: I tensorflow/core/platform/cpu_feature_guard.cc:210] This TensorFlow binary is optimized to use available CPU instructions in performance-critical operations.\n",
      "To enable the following instructions: AVX2 FMA, in other operations, rebuild TensorFlow with the appropriate compiler flags.\n",
      "2024-07-18 10:56:58.947179: W tensorflow/compiler/tf2tensorrt/utils/py_utils.cc:38] TF-TRT Warning: Could not find TensorRT\n"
     ]
    }
   ],
   "source": [
    "#Import Dependencies\n",
    "import numpy as np\n",
    "import matplotlib.pyplot as plt\n",
    "from tensorflow.keras.models import Model, Sequential\n",
    "from keras.layers import Rescaling, Conv2D, MaxPooling2D, Flatten, Dense, BatchNormalization, Activation, Dropout\n",
    "from tensorflow.keras.preprocessing.image import ImageDataGenerator\n",
    "from tensorflow.keras.callbacks import EarlyStopping\n",
    "from tensorflow.keras import regularizers\n",
    "from sklearn.metrics import confusion_matrix, classification_report, f1_score\n",
    "import pandas as pd\n",
    "import seaborn as sns"
   ]
  },
  {
   "metadata": {},
   "cell_type": "markdown",
   "source": "## 5. Set dataset parameters and details",
   "id": "e47b0d588836ec54"
  },
  {
   "cell_type": "code",
   "execution_count": 5,
   "id": "faa8a89a-aed3-42bd-ada6-05d510ffab21",
   "metadata": {
    "ExecuteTime": {
     "end_time": "2024-05-24T07:48:35.546352Z",
     "start_time": "2024-05-24T07:48:35.544061Z"
    }
   },
   "outputs": [],
   "source": [
    "# Define paths to training and validation data\n",
    "train_data_dir = os.environ['TRAIN_ART_STYLE_DATA']\n",
    "valid_data_dir = os.environ['VALID_ART_STYLE_DATA']\n",
    "\n",
    "# Define constants\n",
    "IMG_WIDTH, IMG_HEIGHT = 32,32\n",
    "BATCH_SIZE = 64\n",
    "NUM_EPOCHS = 30"
   ]
  },
  {
   "metadata": {},
   "cell_type": "markdown",
   "source": "## 6. Define the directory path for training dataset",
   "id": "786e032ed9ac16ea"
  },
  {
   "cell_type": "code",
   "execution_count": 6,
   "id": "90f01546-6134-45aa-ad3b-97b6150016d9",
   "metadata": {
    "ExecuteTime": {
     "end_time": "2024-05-24T07:48:43.353307Z",
     "start_time": "2024-05-24T07:48:43.349163Z"
    }
   },
   "outputs": [
    {
     "name": "stdout",
     "output_type": "stream",
     "text": [
      "Train directories containing human-drawn images:\n",
      "0. /home/millenium-falcon/SoftwareProjects/ai-art-casa/.datasets/expressionism/train/expressionism\n",
      "\n",
      "Train directories containing AI-generated images:\n",
      "0. /home/millenium-falcon/SoftwareProjects/ai-art-casa/.datasets/expressionism/train/AI_GENERATED_expressionism\n"
     ]
    }
   ],
   "source": [
    "top_dir = os.environ['TOP_DIR']\n",
    "\n",
    "# Define the training paths\n",
    "train_dir = os.path.join(top_dir, 'train')\n",
    "\n",
    "# List all directories in the train directory\n",
    "all_directories = os.listdir(train_dir)\n",
    "\n",
    "# Initialize lists to store directories for human-drawn and AI-generated images\n",
    "train_human = []\n",
    "train_ai = []\n",
    "\n",
    "# Loop through all directories\n",
    "for directory in all_directories:\n",
    "    # Check if the directory represents human-drawn images\n",
    "    if not directory.startswith('AI_'):\n",
    "        train_human.append(os.path.join(train_dir, directory))\n",
    "    # Check if the directory represents AI-generated images\n",
    "    else:\n",
    "        train_ai.append(os.path.join(train_dir, directory))\n",
    "\n",
    "# Print the lists of directories\n",
    "print(\"Train directories containing human-drawn images:\")\n",
    "for i, directory in enumerate(train_human):\n",
    "    print(f\"{i}. {directory}\")\n",
    "\n",
    "print(\"\\nTrain directories containing AI-generated images:\")\n",
    "for i, directory in enumerate(train_ai):\n",
    "    print(f\"{i}. {directory}\")"
   ]
  },
  {
   "metadata": {},
   "cell_type": "markdown",
   "source": "## 7. Define the directory path for validation dataset",
   "id": "3ddd1fbb5de578d2"
  },
  {
   "cell_type": "code",
   "execution_count": 7,
   "id": "a1158c2a-8eab-489e-9419-2c25c2d9a5d4",
   "metadata": {
    "ExecuteTime": {
     "end_time": "2024-05-24T07:48:45.812422Z",
     "start_time": "2024-05-24T07:48:45.808555Z"
    }
   },
   "outputs": [
    {
     "name": "stdout",
     "output_type": "stream",
     "text": [
      "Test directories containing human-drawn images:\n",
      "0. /home/millenium-falcon/SoftwareProjects/ai-art-casa/.datasets/expressionism/valid/expressionism\n",
      "\n",
      "Test directories containing AI-generated images:\n",
      "0. /home/millenium-falcon/SoftwareProjects/ai-art-casa/.datasets/expressionism/valid/AI_GENERATED_expressionism\n"
     ]
    }
   ],
   "source": [
    "# Define the test paths\n",
    "test_dir = os.path.join(top_dir, 'valid')\n",
    "\n",
    "# List all directories in the test directory\n",
    "all_directories = os.listdir(test_dir)\n",
    "\n",
    "# Initialize lists to store directories for human-drawn and AI-generated images\n",
    "test_human = []\n",
    "test_ai = []\n",
    "\n",
    "# Loop through all directories\n",
    "for directory in all_directories:\n",
    "    # Check if the directory represents human-drawn images\n",
    "    if not directory.startswith('AI_'):\n",
    "        test_human.append(os.path.join(test_dir, directory))\n",
    "    # Check if the directory represents AI-generated images\n",
    "    else:\n",
    "        test_ai.append(os.path.join(test_dir, directory))\n",
    "\n",
    "# Print the lists of directories\n",
    "print(\"Test directories containing human-drawn images:\")\n",
    "for i, directory in enumerate(test_human):\n",
    "    print(f\"{i}. {directory}\")\n",
    "\n",
    "print(\"\\nTest directories containing AI-generated images:\")\n",
    "for i, directory in enumerate(test_ai):\n",
    "    print(f\"{i}. {directory}\")"
   ]
  },
  {
   "metadata": {},
   "cell_type": "markdown",
   "source": "## 8. Data preprocessing- Labeling training data. ",
   "id": "32188d1d46a4ed59"
  },
  {
   "cell_type": "code",
   "execution_count": 8,
   "id": "46d14a2b-fcef-43bf-a886-98b6bbc8a58e",
   "metadata": {
    "ExecuteTime": {
     "end_time": "2024-05-24T07:48:58.032021Z",
     "start_time": "2024-05-24T07:48:58.001860Z"
    }
   },
   "outputs": [],
   "source": [
    "# Initialize lists to store file paths and labels\n",
    "filepaths = []\n",
    "labels = []\n",
    "\n",
    "# Initialize an empty DataFrame for train_data\n",
    "train_data = pd.DataFrame(columns=['filepath', 'label'])\n",
    "\n",
    "# Label files under train_human as \"human\"\n",
    "for directory in train_human:\n",
    "    for file in os.listdir(directory):\n",
    "        filepath = os.path.join(directory, file)\n",
    "        filepaths.append(filepath)\n",
    "        labels.append(\"human\")\n",
    "\n",
    "# Label files under train_ai as \"AI\"\n",
    "for directory in train_ai:\n",
    "    for file in os.listdir(directory):\n",
    "        filepath = os.path.join(directory, file)\n",
    "        filepaths.append(filepath)\n",
    "        labels.append(\"AI\")\n",
    "\n",
    "# Create a DataFrame with file paths and labels\n",
    "data = pd.DataFrame({'filepath': filepaths, 'label': labels})\n",
    "\n",
    "# Concatenate data with train_data\n",
    "train_data = pd.concat([train_data, data], ignore_index=True)"
   ]
  },
  {
   "metadata": {},
   "cell_type": "markdown",
   "source": "## 9. Display the amount of images for training dataset",
   "id": "90032b02fe1b1a6e"
  },
  {
   "cell_type": "code",
   "execution_count": 10,
   "id": "9b4d6b65-6923-4407-883d-0ad9778ed0ad",
   "metadata": {
    "ExecuteTime": {
     "end_time": "2024-05-24T07:49:10.543366Z",
     "start_time": "2024-05-24T07:49:10.538657Z"
    }
   },
   "outputs": [
    {
     "name": "stdout",
     "output_type": "stream",
     "text": [
      "Number of files under each label:\n",
      "label\n",
      "AI       10420\n",
      "human     5000\n",
      "Name: count, dtype: int64\n"
     ]
    }
   ],
   "source": [
    "# Count the number of files under each label\n",
    "file_counts = train_data['label'].value_counts()\n",
    "\n",
    "# Print the counts\n",
    "print(\"Number of files under each label:\")\n",
    "print(file_counts)"
   ]
  },
  {
   "metadata": {},
   "cell_type": "markdown",
   "source": "## 10. Data preprocessing- Labeling validation data. ",
   "id": "f96d664f697ea0a6"
  },
  {
   "cell_type": "code",
   "execution_count": 12,
   "id": "6425fb35-b893-4a6d-b31f-a47be98037ef",
   "metadata": {
    "ExecuteTime": {
     "end_time": "2024-05-24T07:49:26.878528Z",
     "start_time": "2024-05-24T07:49:26.870626Z"
    }
   },
   "outputs": [],
   "source": [
    "# Initialize lists to store file paths and labels\n",
    "filepaths = []\n",
    "labels = []\n",
    "\n",
    "# Initialize an empty DataFrame for test_data\n",
    "test_data = pd.DataFrame(columns=['filepath', 'label'])\n",
    "\n",
    "# Label files under test_human as \"human\"\n",
    "for directory in test_human:\n",
    "    for file in os.listdir(directory):\n",
    "        filepath = os.path.join(directory, file)\n",
    "        filepaths.append(filepath)\n",
    "        labels.append(\"human\")\n",
    "\n",
    "# Label files under test_ai as \"AI\"\n",
    "for directory in test_ai:\n",
    "    for file in os.listdir(directory):\n",
    "        filepath = os.path.join(directory, file)\n",
    "        filepaths.append(filepath)\n",
    "        labels.append(\"AI\")\n",
    "\n",
    "# Create a DataFrame with file paths and labels\n",
    "data = pd.DataFrame({'filepath': filepaths, 'label': labels})\n",
    "\n",
    "# Concatenate data with test_data\n",
    "test_data = pd.concat([test_data, data], ignore_index=True)"
   ]
  },
  {
   "metadata": {},
   "cell_type": "markdown",
   "source": "## 11. Display the amount of images for validation dataset",
   "id": "1b8535f1c2814583"
  },
  {
   "cell_type": "code",
   "execution_count": 13,
   "id": "f904c8f3-11b6-4c35-8233-a64a7e82dcc7",
   "metadata": {
    "ExecuteTime": {
     "end_time": "2024-05-24T07:49:29.442976Z",
     "start_time": "2024-05-24T07:49:29.438876Z"
    }
   },
   "outputs": [
    {
     "name": "stdout",
     "output_type": "stream",
     "text": [
      "                                            filepath  label\n",
      "0  /home/millenium-falcon/SoftwareProjects/ai-art...  human\n",
      "1  /home/millenium-falcon/SoftwareProjects/ai-art...  human\n",
      "2  /home/millenium-falcon/SoftwareProjects/ai-art...  human\n",
      "3  /home/millenium-falcon/SoftwareProjects/ai-art...  human\n",
      "4  /home/millenium-falcon/SoftwareProjects/ai-art...  human\n",
      "\n",
      "Number of files under each label:\n",
      "label\n",
      "AI       2000\n",
      "human    1000\n",
      "Name: count, dtype: int64\n"
     ]
    }
   ],
   "source": [
    "# Count the number of files under each label\n",
    "file_counts = test_data['label'].value_counts()\n",
    "\n",
    "# Print the counts\n",
    "print(\"\\nNumber of files under each label:\")\n",
    "print(file_counts)"
   ]
  },
  {
   "metadata": {},
   "cell_type": "markdown",
   "source": "## 12. Data preprocessing- Adding data augmentation and creating training dataset. ",
   "id": "224fbfd71e26fb0a"
  },
  {
   "cell_type": "code",
   "execution_count": 14,
   "id": "7a8c277e-fb79-4547-8d94-c1a53e9184b8",
   "metadata": {
    "ExecuteTime": {
     "end_time": "2024-05-24T07:49:33.780264Z",
     "start_time": "2024-05-24T07:49:33.722238Z"
    }
   },
   "outputs": [
    {
     "name": "stdout",
     "output_type": "stream",
     "text": [
      "Found 15420 validated image filenames belonging to 2 classes.\n"
     ]
    }
   ],
   "source": [
    "training_generator = ImageDataGenerator(rescale=1./255,  # to normalize pixel value\n",
    "                                        rotation_range=7, # it will apply rotations to the image\n",
    "                                        horizontal_flip=True # it will flip image horizontally\n",
    "                                       )\n",
    "train_dataset = training_generator.flow_from_dataframe(\n",
    "    dataframe=train_data,\n",
    "    x_col='filepath',  # Column containing file paths\n",
    "    y_col='label',     # Column containing labels\n",
    "    target_size=(IMG_WIDTH, IMG_HEIGHT),\n",
    "    batch_size=BATCH_SIZE,\n",
    "    class_mode='binary',  \n",
    "    shuffle=True\n",
    ")"
   ]
  },
  {
   "metadata": {},
   "cell_type": "markdown",
   "source": "## 13. Data preprocessing- Adding data augmentation and creating validation dataset. ",
   "id": "3d827dafbbd0fa14"
  },
  {
   "cell_type": "code",
   "execution_count": 16,
   "id": "17ded983-049a-4a4e-834b-f3368daa9de0",
   "metadata": {
    "ExecuteTime": {
     "end_time": "2024-05-24T07:49:37.134057Z",
     "start_time": "2024-05-24T07:49:37.112818Z"
    }
   },
   "outputs": [
    {
     "name": "stdout",
     "output_type": "stream",
     "text": [
      "Found 3000 validated image filenames belonging to 2 classes.\n"
     ]
    },
    {
     "data": {
      "text/plain": [
       "{'AI': 0, 'human': 1}"
      ]
     },
     "execution_count": 16,
     "metadata": {},
     "output_type": "execute_result"
    }
   ],
   "source": [
    "#Created validation set\n",
    "val_generator = ImageDataGenerator(rescale=1./255,            # Normalize the image pixel values to the range [0, 1] by scaling by 1/255\n",
    "    rotation_range=7,         # Randomly rotate images by up to 7 degrees\n",
    "    horizontal_flip=True)      # Randomly flip images horizontally\n",
    "val_dataset = val_generator.flow_from_dataframe(dataframe=test_data,\n",
    "                                                x_col='filepath',  # Column containing file paths\n",
    "                                                y_col='label',  # Column containing labels\n",
    "                                                target_size = (IMG_WIDTH, IMG_HEIGHT),\n",
    "                                                batch_size = 1,  # 1 image at a time to evaluate the NN\n",
    "                                                class_mode = 'binary',\n",
    "                                                shuffle = False\n",
    "                                                )   # to associate the prediction with expected output\n"
   ]
  },
  {
   "metadata": {},
   "cell_type": "markdown",
   "source": "## 14. Defining CNN model and show its summary.",
   "id": "3f4bbcc5feb16e5"
  },
  {
   "cell_type": "code",
   "execution_count": 17,
   "id": "97bac3de-e382-48a1-8604-bd1a5401f32d",
   "metadata": {
    "ExecuteTime": {
     "end_time": "2024-05-24T07:49:39.532523Z",
     "start_time": "2024-05-24T07:49:39.303069Z"
    }
   },
   "outputs": [
    {
     "name": "stderr",
     "output_type": "stream",
     "text": [
      "/home/millenium-falcon/.local/lib/python3.10/site-packages/keras/src/layers/convolutional/base_conv.py:107: UserWarning: Do not pass an `input_shape`/`input_dim` argument to a layer. When using Sequential models, prefer using an `Input(shape)` object as the first layer in the model instead.\n",
      "  super().__init__(activity_regularizer=activity_regularizer, **kwargs)\n",
      "2024-07-18 10:57:27.041739: I external/local_xla/xla/stream_executor/cuda/cuda_executor.cc:998] successful NUMA node read from SysFS had negative value (-1), but there must be at least one NUMA node, so returning NUMA node zero. See more at https://github.com/torvalds/linux/blob/v6.0/Documentation/ABI/testing/sysfs-bus-pci#L344-L355\n",
      "2024-07-18 10:57:27.083217: I external/local_xla/xla/stream_executor/cuda/cuda_executor.cc:998] successful NUMA node read from SysFS had negative value (-1), but there must be at least one NUMA node, so returning NUMA node zero. See more at https://github.com/torvalds/linux/blob/v6.0/Documentation/ABI/testing/sysfs-bus-pci#L344-L355\n",
      "2024-07-18 10:57:27.083406: I external/local_xla/xla/stream_executor/cuda/cuda_executor.cc:998] successful NUMA node read from SysFS had negative value (-1), but there must be at least one NUMA node, so returning NUMA node zero. See more at https://github.com/torvalds/linux/blob/v6.0/Documentation/ABI/testing/sysfs-bus-pci#L344-L355\n",
      "2024-07-18 10:57:27.084452: I external/local_xla/xla/stream_executor/cuda/cuda_executor.cc:998] successful NUMA node read from SysFS had negative value (-1), but there must be at least one NUMA node, so returning NUMA node zero. See more at https://github.com/torvalds/linux/blob/v6.0/Documentation/ABI/testing/sysfs-bus-pci#L344-L355\n",
      "2024-07-18 10:57:27.084607: I external/local_xla/xla/stream_executor/cuda/cuda_executor.cc:998] successful NUMA node read from SysFS had negative value (-1), but there must be at least one NUMA node, so returning NUMA node zero. See more at https://github.com/torvalds/linux/blob/v6.0/Documentation/ABI/testing/sysfs-bus-pci#L344-L355\n",
      "2024-07-18 10:57:27.084746: I external/local_xla/xla/stream_executor/cuda/cuda_executor.cc:998] successful NUMA node read from SysFS had negative value (-1), but there must be at least one NUMA node, so returning NUMA node zero. See more at https://github.com/torvalds/linux/blob/v6.0/Documentation/ABI/testing/sysfs-bus-pci#L344-L355\n",
      "2024-07-18 10:57:27.142472: I external/local_xla/xla/stream_executor/cuda/cuda_executor.cc:998] successful NUMA node read from SysFS had negative value (-1), but there must be at least one NUMA node, so returning NUMA node zero. See more at https://github.com/torvalds/linux/blob/v6.0/Documentation/ABI/testing/sysfs-bus-pci#L344-L355\n",
      "2024-07-18 10:57:27.142637: I external/local_xla/xla/stream_executor/cuda/cuda_executor.cc:998] successful NUMA node read from SysFS had negative value (-1), but there must be at least one NUMA node, so returning NUMA node zero. See more at https://github.com/torvalds/linux/blob/v6.0/Documentation/ABI/testing/sysfs-bus-pci#L344-L355\n",
      "2024-07-18 10:57:27.142782: I external/local_xla/xla/stream_executor/cuda/cuda_executor.cc:998] successful NUMA node read from SysFS had negative value (-1), but there must be at least one NUMA node, so returning NUMA node zero. See more at https://github.com/torvalds/linux/blob/v6.0/Documentation/ABI/testing/sysfs-bus-pci#L344-L355\n",
      "2024-07-18 10:57:27.142896: I tensorflow/core/common_runtime/gpu/gpu_device.cc:1928] Created device /job:localhost/replica:0/task:0/device:GPU:0 with 6110 MB memory:  -> device: 0, name: NVIDIA GeForce RTX 3070 Ti, pci bus id: 0000:07:00.0, compute capability: 8.6\n"
     ]
    },
    {
     "data": {
      "text/html": [
       "<pre style=\"white-space:pre;overflow-x:auto;line-height:normal;font-family:Menlo,'DejaVu Sans Mono',consolas,'Courier New',monospace\"><span style=\"font-weight: bold\">Model: \"sequential\"</span>\n",
       "</pre>\n"
      ],
      "text/plain": [
       "\u001B[1mModel: \"sequential\"\u001B[0m\n"
      ]
     },
     "metadata": {},
     "output_type": "display_data"
    },
    {
     "data": {
      "text/html": [
       "<pre style=\"white-space:pre;overflow-x:auto;line-height:normal;font-family:Menlo,'DejaVu Sans Mono',consolas,'Courier New',monospace\">┏━━━━━━━━━━━━━━━━━━━━━━━━━━━━━━━━━┳━━━━━━━━━━━━━━━━━━━━━━━━┳━━━━━━━━━━━━━━━┓\n",
       "┃<span style=\"font-weight: bold\"> Layer (type)                    </span>┃<span style=\"font-weight: bold\"> Output Shape           </span>┃<span style=\"font-weight: bold\">       Param # </span>┃\n",
       "┡━━━━━━━━━━━━━━━━━━━━━━━━━━━━━━━━━╇━━━━━━━━━━━━━━━━━━━━━━━━╇━━━━━━━━━━━━━━━┩\n",
       "│ conv2d (<span style=\"color: #0087ff; text-decoration-color: #0087ff\">Conv2D</span>)                 │ (<span style=\"color: #00d7ff; text-decoration-color: #00d7ff\">None</span>, <span style=\"color: #00af00; text-decoration-color: #00af00\">30</span>, <span style=\"color: #00af00; text-decoration-color: #00af00\">30</span>, <span style=\"color: #00af00; text-decoration-color: #00af00\">512</span>)    │        <span style=\"color: #00af00; text-decoration-color: #00af00\">14,336</span> │\n",
       "├─────────────────────────────────┼────────────────────────┼───────────────┤\n",
       "│ max_pooling2d (<span style=\"color: #0087ff; text-decoration-color: #0087ff\">MaxPooling2D</span>)    │ (<span style=\"color: #00d7ff; text-decoration-color: #00d7ff\">None</span>, <span style=\"color: #00af00; text-decoration-color: #00af00\">15</span>, <span style=\"color: #00af00; text-decoration-color: #00af00\">15</span>, <span style=\"color: #00af00; text-decoration-color: #00af00\">512</span>)    │             <span style=\"color: #00af00; text-decoration-color: #00af00\">0</span> │\n",
       "├─────────────────────────────────┼────────────────────────┼───────────────┤\n",
       "│ conv2d_1 (<span style=\"color: #0087ff; text-decoration-color: #0087ff\">Conv2D</span>)               │ (<span style=\"color: #00d7ff; text-decoration-color: #00d7ff\">None</span>, <span style=\"color: #00af00; text-decoration-color: #00af00\">13</span>, <span style=\"color: #00af00; text-decoration-color: #00af00\">13</span>, <span style=\"color: #00af00; text-decoration-color: #00af00\">128</span>)    │       <span style=\"color: #00af00; text-decoration-color: #00af00\">589,952</span> │\n",
       "├─────────────────────────────────┼────────────────────────┼───────────────┤\n",
       "│ max_pooling2d_1 (<span style=\"color: #0087ff; text-decoration-color: #0087ff\">MaxPooling2D</span>)  │ (<span style=\"color: #00d7ff; text-decoration-color: #00d7ff\">None</span>, <span style=\"color: #00af00; text-decoration-color: #00af00\">6</span>, <span style=\"color: #00af00; text-decoration-color: #00af00\">6</span>, <span style=\"color: #00af00; text-decoration-color: #00af00\">128</span>)      │             <span style=\"color: #00af00; text-decoration-color: #00af00\">0</span> │\n",
       "├─────────────────────────────────┼────────────────────────┼───────────────┤\n",
       "│ conv2d_2 (<span style=\"color: #0087ff; text-decoration-color: #0087ff\">Conv2D</span>)               │ (<span style=\"color: #00d7ff; text-decoration-color: #00d7ff\">None</span>, <span style=\"color: #00af00; text-decoration-color: #00af00\">4</span>, <span style=\"color: #00af00; text-decoration-color: #00af00\">4</span>, <span style=\"color: #00af00; text-decoration-color: #00af00\">32</span>)       │        <span style=\"color: #00af00; text-decoration-color: #00af00\">36,896</span> │\n",
       "├─────────────────────────────────┼────────────────────────┼───────────────┤\n",
       "│ max_pooling2d_2 (<span style=\"color: #0087ff; text-decoration-color: #0087ff\">MaxPooling2D</span>)  │ (<span style=\"color: #00d7ff; text-decoration-color: #00d7ff\">None</span>, <span style=\"color: #00af00; text-decoration-color: #00af00\">2</span>, <span style=\"color: #00af00; text-decoration-color: #00af00\">2</span>, <span style=\"color: #00af00; text-decoration-color: #00af00\">32</span>)       │             <span style=\"color: #00af00; text-decoration-color: #00af00\">0</span> │\n",
       "├─────────────────────────────────┼────────────────────────┼───────────────┤\n",
       "│ flatten (<span style=\"color: #0087ff; text-decoration-color: #0087ff\">Flatten</span>)               │ (<span style=\"color: #00d7ff; text-decoration-color: #00d7ff\">None</span>, <span style=\"color: #00af00; text-decoration-color: #00af00\">128</span>)            │             <span style=\"color: #00af00; text-decoration-color: #00af00\">0</span> │\n",
       "├─────────────────────────────────┼────────────────────────┼───────────────┤\n",
       "│ dense (<span style=\"color: #0087ff; text-decoration-color: #0087ff\">Dense</span>)                   │ (<span style=\"color: #00d7ff; text-decoration-color: #00d7ff\">None</span>, <span style=\"color: #00af00; text-decoration-color: #00af00\">32</span>)             │         <span style=\"color: #00af00; text-decoration-color: #00af00\">4,128</span> │\n",
       "├─────────────────────────────────┼────────────────────────┼───────────────┤\n",
       "│ dense_1 (<span style=\"color: #0087ff; text-decoration-color: #0087ff\">Dense</span>)                 │ (<span style=\"color: #00d7ff; text-decoration-color: #00d7ff\">None</span>, <span style=\"color: #00af00; text-decoration-color: #00af00\">16</span>)             │           <span style=\"color: #00af00; text-decoration-color: #00af00\">528</span> │\n",
       "├─────────────────────────────────┼────────────────────────┼───────────────┤\n",
       "│ dense_2 (<span style=\"color: #0087ff; text-decoration-color: #0087ff\">Dense</span>)                 │ (<span style=\"color: #00d7ff; text-decoration-color: #00d7ff\">None</span>, <span style=\"color: #00af00; text-decoration-color: #00af00\">2</span>)              │            <span style=\"color: #00af00; text-decoration-color: #00af00\">34</span> │\n",
       "└─────────────────────────────────┴────────────────────────┴───────────────┘\n",
       "</pre>\n"
      ],
      "text/plain": [
       "┏━━━━━━━━━━━━━━━━━━━━━━━━━━━━━━━━━┳━━━━━━━━━━━━━━━━━━━━━━━━┳━━━━━━━━━━━━━━━┓\n",
       "┃\u001B[1m \u001B[0m\u001B[1mLayer (type)                   \u001B[0m\u001B[1m \u001B[0m┃\u001B[1m \u001B[0m\u001B[1mOutput Shape          \u001B[0m\u001B[1m \u001B[0m┃\u001B[1m \u001B[0m\u001B[1m      Param #\u001B[0m\u001B[1m \u001B[0m┃\n",
       "┡━━━━━━━━━━━━━━━━━━━━━━━━━━━━━━━━━╇━━━━━━━━━━━━━━━━━━━━━━━━╇━━━━━━━━━━━━━━━┩\n",
       "│ conv2d (\u001B[38;5;33mConv2D\u001B[0m)                 │ (\u001B[38;5;45mNone\u001B[0m, \u001B[38;5;34m30\u001B[0m, \u001B[38;5;34m30\u001B[0m, \u001B[38;5;34m512\u001B[0m)    │        \u001B[38;5;34m14,336\u001B[0m │\n",
       "├─────────────────────────────────┼────────────────────────┼───────────────┤\n",
       "│ max_pooling2d (\u001B[38;5;33mMaxPooling2D\u001B[0m)    │ (\u001B[38;5;45mNone\u001B[0m, \u001B[38;5;34m15\u001B[0m, \u001B[38;5;34m15\u001B[0m, \u001B[38;5;34m512\u001B[0m)    │             \u001B[38;5;34m0\u001B[0m │\n",
       "├─────────────────────────────────┼────────────────────────┼───────────────┤\n",
       "│ conv2d_1 (\u001B[38;5;33mConv2D\u001B[0m)               │ (\u001B[38;5;45mNone\u001B[0m, \u001B[38;5;34m13\u001B[0m, \u001B[38;5;34m13\u001B[0m, \u001B[38;5;34m128\u001B[0m)    │       \u001B[38;5;34m589,952\u001B[0m │\n",
       "├─────────────────────────────────┼────────────────────────┼───────────────┤\n",
       "│ max_pooling2d_1 (\u001B[38;5;33mMaxPooling2D\u001B[0m)  │ (\u001B[38;5;45mNone\u001B[0m, \u001B[38;5;34m6\u001B[0m, \u001B[38;5;34m6\u001B[0m, \u001B[38;5;34m128\u001B[0m)      │             \u001B[38;5;34m0\u001B[0m │\n",
       "├─────────────────────────────────┼────────────────────────┼───────────────┤\n",
       "│ conv2d_2 (\u001B[38;5;33mConv2D\u001B[0m)               │ (\u001B[38;5;45mNone\u001B[0m, \u001B[38;5;34m4\u001B[0m, \u001B[38;5;34m4\u001B[0m, \u001B[38;5;34m32\u001B[0m)       │        \u001B[38;5;34m36,896\u001B[0m │\n",
       "├─────────────────────────────────┼────────────────────────┼───────────────┤\n",
       "│ max_pooling2d_2 (\u001B[38;5;33mMaxPooling2D\u001B[0m)  │ (\u001B[38;5;45mNone\u001B[0m, \u001B[38;5;34m2\u001B[0m, \u001B[38;5;34m2\u001B[0m, \u001B[38;5;34m32\u001B[0m)       │             \u001B[38;5;34m0\u001B[0m │\n",
       "├─────────────────────────────────┼────────────────────────┼───────────────┤\n",
       "│ flatten (\u001B[38;5;33mFlatten\u001B[0m)               │ (\u001B[38;5;45mNone\u001B[0m, \u001B[38;5;34m128\u001B[0m)            │             \u001B[38;5;34m0\u001B[0m │\n",
       "├─────────────────────────────────┼────────────────────────┼───────────────┤\n",
       "│ dense (\u001B[38;5;33mDense\u001B[0m)                   │ (\u001B[38;5;45mNone\u001B[0m, \u001B[38;5;34m32\u001B[0m)             │         \u001B[38;5;34m4,128\u001B[0m │\n",
       "├─────────────────────────────────┼────────────────────────┼───────────────┤\n",
       "│ dense_1 (\u001B[38;5;33mDense\u001B[0m)                 │ (\u001B[38;5;45mNone\u001B[0m, \u001B[38;5;34m16\u001B[0m)             │           \u001B[38;5;34m528\u001B[0m │\n",
       "├─────────────────────────────────┼────────────────────────┼───────────────┤\n",
       "│ dense_2 (\u001B[38;5;33mDense\u001B[0m)                 │ (\u001B[38;5;45mNone\u001B[0m, \u001B[38;5;34m2\u001B[0m)              │            \u001B[38;5;34m34\u001B[0m │\n",
       "└─────────────────────────────────┴────────────────────────┴───────────────┘\n"
      ]
     },
     "metadata": {},
     "output_type": "display_data"
    },
    {
     "data": {
      "text/html": [
       "<pre style=\"white-space:pre;overflow-x:auto;line-height:normal;font-family:Menlo,'DejaVu Sans Mono',consolas,'Courier New',monospace\"><span style=\"font-weight: bold\"> Total params: </span><span style=\"color: #00af00; text-decoration-color: #00af00\">645,874</span> (2.46 MB)\n",
       "</pre>\n"
      ],
      "text/plain": [
       "\u001B[1m Total params: \u001B[0m\u001B[38;5;34m645,874\u001B[0m (2.46 MB)\n"
      ]
     },
     "metadata": {},
     "output_type": "display_data"
    },
    {
     "data": {
      "text/html": [
       "<pre style=\"white-space:pre;overflow-x:auto;line-height:normal;font-family:Menlo,'DejaVu Sans Mono',consolas,'Courier New',monospace\"><span style=\"font-weight: bold\"> Trainable params: </span><span style=\"color: #00af00; text-decoration-color: #00af00\">645,874</span> (2.46 MB)\n",
       "</pre>\n"
      ],
      "text/plain": [
       "\u001B[1m Trainable params: \u001B[0m\u001B[38;5;34m645,874\u001B[0m (2.46 MB)\n"
      ]
     },
     "metadata": {},
     "output_type": "display_data"
    },
    {
     "data": {
      "text/html": [
       "<pre style=\"white-space:pre;overflow-x:auto;line-height:normal;font-family:Menlo,'DejaVu Sans Mono',consolas,'Courier New',monospace\"><span style=\"font-weight: bold\"> Non-trainable params: </span><span style=\"color: #00af00; text-decoration-color: #00af00\">0</span> (0.00 B)\n",
       "</pre>\n"
      ],
      "text/plain": [
       "\u001B[1m Non-trainable params: \u001B[0m\u001B[38;5;34m0\u001B[0m (0.00 B)\n"
      ]
     },
     "metadata": {},
     "output_type": "display_data"
    }
   ],
   "source": [
    "#Build the model\n",
    "model = Sequential()\n",
    "#Adding Convolutional layer with 512 filters and relu activation function. \n",
    "model.add(Conv2D(filters = 512, kernel_size = 3, input_shape = (IMG_WIDTH, IMG_HEIGHT, 3), activation='relu', kernel_regularizer=regularizers.l2(0.001)))\n",
    "#Adding Max Pooling Layer\n",
    "model.add(MaxPooling2D(2, 2))\n",
    "#Adding Convolutional layer with 128 filters and relu activation function. \n",
    "model.add(Conv2D(filters = 128, kernel_size = 3, activation='relu'))\n",
    "#Adding Max Pooling Layer\n",
    "model.add(MaxPooling2D(2, 2))\n",
    "#Adding Convolutional layer with 32 filters and relu activation function. \n",
    "model.add(Conv2D(filters = 32, kernel_size = 3, activation='relu'))\n",
    "model.add(MaxPooling2D(2, 2))\n",
    "#Adding a Flatten layer to reduce the final model's matrix to a 1D matrix\n",
    "model.add(Flatten())\n",
    "#Added 3 full connected layers to have a final result. \n",
    "model.add(Dense(units =32, activation='relu'))\n",
    "model.add(Dense(units =16, activation='relu'))\n",
    "model.add(Dense(units = 1, activation='sigmoid'))\n",
    "#Show the model's summary. \n",
    "model.summary()"
   ]
  },
  {
   "metadata": {},
   "cell_type": "markdown",
   "source": "## 15. Compile the model",
   "id": "332d291fc35dc346"
  },
  {
   "cell_type": "code",
   "execution_count": 18,
   "id": "dd13ebe0-530e-45b6-a91b-f8936f1f8899",
   "metadata": {
    "ExecuteTime": {
     "end_time": "2024-05-24T07:49:42.647216Z",
     "start_time": "2024-05-24T07:49:42.640974Z"
    }
   },
   "outputs": [],
   "source": [
    "# Compile the model\n",
    "model.compile(optimizer='Adam', loss='binary_crossentropy', metrics=['accuracy'])\n",
    "#Add EarlyStopping with a patience of 5 to avoid overfitting. \n",
    "es = EarlyStopping(monitor='val_accuracy', mode='max', patience=5,  restore_best_weights=True)"
   ]
  },
  {
   "metadata": {},
   "cell_type": "markdown",
   "source": "## 16. Train the model :)",
   "id": "9ae47995aa5ca042"
  },
  {
   "cell_type": "code",
   "execution_count": 19,
   "id": "b91dbdc0-164e-4ee5-8883-d2329d3d0c95",
   "metadata": {},
   "outputs": [
    {
     "name": "stdout",
     "output_type": "stream",
     "text": [
      "Epoch 1/30\n"
     ]
    },
    {
     "name": "stderr",
     "output_type": "stream",
     "text": [
      "/home/millenium-falcon/.local/lib/python3.10/site-packages/keras/src/trainers/data_adapters/py_dataset_adapter.py:121: UserWarning: Your `PyDataset` class should call `super().__init__(**kwargs)` in its constructor. `**kwargs` can include `workers`, `use_multiprocessing`, `max_queue_size`. Do not pass these arguments to `fit()`, as they will be ignored.\n",
      "  self._warn_if_super_not_called()\n",
      "WARNING: All log messages before absl::InitializeLog() is called are written to STDERR\n",
      "I0000 00:00:1721311053.480129  477901 service.cc:145] XLA service 0x7dcd44002600 initialized for platform CUDA (this does not guarantee that XLA will be used). Devices:\n",
      "I0000 00:00:1721311053.480155  477901 service.cc:153]   StreamExecutor device (0): NVIDIA GeForce RTX 3070 Ti, Compute Capability 8.6\n",
      "2024-07-18 10:57:33.516992: I tensorflow/compiler/mlir/tensorflow/utils/dump_mlir_util.cc:268] disabling MLIR crash reproducer, set env var `MLIR_CRASH_REPRODUCER_DIRECTORY` to enable.\n",
      "2024-07-18 10:57:33.654795: I external/local_xla/xla/stream_executor/cuda/cuda_dnn.cc:465] Loaded cuDNN version 8906\n"
     ]
    },
    {
     "name": "stdout",
     "output_type": "stream",
     "text": [
      "\u001B[1m  5/241\u001B[0m \u001B[37m━━━━━━━━━━━━━━━━━━━━\u001B[0m \u001B[1m11s\u001B[0m 47ms/step - accuracy: 0.6223 - loss: 0.6570"
     ]
    },
    {
     "name": "stderr",
     "output_type": "stream",
     "text": [
      "I0000 00:00:1721311055.241225  477901 device_compiler.h:188] Compiled cluster using XLA!  This line is logged at most once for the lifetime of the process.\n"
     ]
    },
    {
     "name": "stdout",
     "output_type": "stream",
     "text": [
      "\u001B[1m234/241\u001B[0m \u001B[32m━━━━━━━━━━━━━━━━━━━\u001B[0m\u001B[37m━\u001B[0m \u001B[1m0s\u001B[0m 67ms/step - accuracy: 0.8189 - loss: 0.3879"
     ]
    },
    {
     "name": "stderr",
     "output_type": "stream",
     "text": [
      "/home/millenium-falcon/.local/lib/python3.10/site-packages/keras/src/trainers/data_adapters/py_dataset_adapter.py:121: UserWarning: Your `PyDataset` class should call `super().__init__(**kwargs)` in its constructor. `**kwargs` can include `workers`, `use_multiprocessing`, `max_queue_size`. Do not pass these arguments to `fit()`, as they will be ignored.\n",
      "  self._warn_if_super_not_called()\n"
     ]
    },
    {
     "name": "stdout",
     "output_type": "stream",
     "text": [
      "\u001B[1m241/241\u001B[0m \u001B[32m━━━━━━━━━━━━━━━━━━━━\u001B[0m\u001B[37m\u001B[0m \u001B[1m23s\u001B[0m 85ms/step - accuracy: 0.8209 - loss: 0.3847 - val_accuracy: 0.9087 - val_loss: 0.2237\n",
      "Epoch 2/30\n",
      "\u001B[1m241/241\u001B[0m \u001B[32m━━━━━━━━━━━━━━━━━━━━\u001B[0m\u001B[37m\u001B[0m \u001B[1m19s\u001B[0m 77ms/step - accuracy: 0.9275 - loss: 0.1898 - val_accuracy: 0.9260 - val_loss: 0.1970\n",
      "Epoch 3/30\n",
      "\u001B[1m241/241\u001B[0m \u001B[32m━━━━━━━━━━━━━━━━━━━━\u001B[0m\u001B[37m\u001B[0m \u001B[1m19s\u001B[0m 77ms/step - accuracy: 0.9364 - loss: 0.1680 - val_accuracy: 0.9277 - val_loss: 0.1887\n",
      "Epoch 4/30\n",
      "\u001B[1m241/241\u001B[0m \u001B[32m━━━━━━━━━━━━━━━━━━━━\u001B[0m\u001B[37m\u001B[0m \u001B[1m19s\u001B[0m 76ms/step - accuracy: 0.9303 - loss: 0.1792 - val_accuracy: 0.9257 - val_loss: 0.1804\n",
      "Epoch 5/30\n",
      "\u001B[1m241/241\u001B[0m \u001B[32m━━━━━━━━━━━━━━━━━━━━\u001B[0m\u001B[37m\u001B[0m \u001B[1m19s\u001B[0m 77ms/step - accuracy: 0.9430 - loss: 0.1518 - val_accuracy: 0.9337 - val_loss: 0.1749\n",
      "Epoch 6/30\n",
      "\u001B[1m241/241\u001B[0m \u001B[32m━━━━━━━━━━━━━━━━━━━━\u001B[0m\u001B[37m\u001B[0m \u001B[1m19s\u001B[0m 76ms/step - accuracy: 0.9474 - loss: 0.1441 - val_accuracy: 0.9390 - val_loss: 0.1662\n",
      "Epoch 7/30\n",
      "\u001B[1m241/241\u001B[0m \u001B[32m━━━━━━━━━━━━━━━━━━━━\u001B[0m\u001B[37m\u001B[0m \u001B[1m19s\u001B[0m 77ms/step - accuracy: 0.9493 - loss: 0.1341 - val_accuracy: 0.9387 - val_loss: 0.1712\n",
      "Epoch 8/30\n",
      "\u001B[1m241/241\u001B[0m \u001B[32m━━━━━━━━━━━━━━━━━━━━\u001B[0m\u001B[37m\u001B[0m \u001B[1m19s\u001B[0m 75ms/step - accuracy: 0.9501 - loss: 0.1362 - val_accuracy: 0.9420 - val_loss: 0.1532\n",
      "Epoch 9/30\n",
      "\u001B[1m241/241\u001B[0m \u001B[32m━━━━━━━━━━━━━━━━━━━━\u001B[0m\u001B[37m\u001B[0m \u001B[1m19s\u001B[0m 78ms/step - accuracy: 0.9568 - loss: 0.1232 - val_accuracy: 0.9413 - val_loss: 0.1640\n",
      "Epoch 10/30\n",
      "\u001B[1m241/241\u001B[0m \u001B[32m━━━━━━━━━━━━━━━━━━━━\u001B[0m\u001B[37m\u001B[0m \u001B[1m19s\u001B[0m 78ms/step - accuracy: 0.9562 - loss: 0.1163 - val_accuracy: 0.9453 - val_loss: 0.1508\n",
      "Epoch 11/30\n",
      "\u001B[1m241/241\u001B[0m \u001B[32m━━━━━━━━━━━━━━━━━━━━\u001B[0m\u001B[37m\u001B[0m \u001B[1m19s\u001B[0m 77ms/step - accuracy: 0.9646 - loss: 0.0972 - val_accuracy: 0.9377 - val_loss: 0.1717\n",
      "Epoch 12/30\n",
      "\u001B[1m241/241\u001B[0m \u001B[32m━━━━━━━━━━━━━━━━━━━━\u001B[0m\u001B[37m\u001B[0m \u001B[1m19s\u001B[0m 78ms/step - accuracy: 0.9659 - loss: 0.0994 - val_accuracy: 0.9367 - val_loss: 0.1654\n",
      "Epoch 13/30\n",
      "\u001B[1m241/241\u001B[0m \u001B[32m━━━━━━━━━━━━━━━━━━━━\u001B[0m\u001B[37m\u001B[0m \u001B[1m19s\u001B[0m 76ms/step - accuracy: 0.9707 - loss: 0.0827 - val_accuracy: 0.9423 - val_loss: 0.1541\n",
      "Epoch 14/30\n",
      "\u001B[1m241/241\u001B[0m \u001B[32m━━━━━━━━━━━━━━━━━━━━\u001B[0m\u001B[37m\u001B[0m \u001B[1m19s\u001B[0m 78ms/step - accuracy: 0.9697 - loss: 0.0838 - val_accuracy: 0.9423 - val_loss: 0.1628\n",
      "Epoch 15/30\n",
      "\u001B[1m241/241\u001B[0m \u001B[32m━━━━━━━━━━━━━━━━━━━━\u001B[0m\u001B[37m\u001B[0m \u001B[1m19s\u001B[0m 76ms/step - accuracy: 0.9799 - loss: 0.0658 - val_accuracy: 0.9037 - val_loss: 0.2817\n"
     ]
    }
   ],
   "source": [
    "#TRAINING MODEL\n",
    "history = model.fit(train_dataset, epochs=NUM_EPOCHS, validation_data=val_dataset, callbacks=[es])"
   ]
  },
  {
   "metadata": {},
   "cell_type": "markdown",
   "source": "## 17. Plotting the accuracy and loss functions of the epochs",
   "id": "b9479be6040de0df"
  },
  {
   "cell_type": "code",
   "execution_count": 21,
   "id": "23630c1a-941e-4fc2-8e38-4fdbd6f6d85f",
   "metadata": {
    "jupyter": {
     "is_executing": true
    }
   },
   "outputs": [
    {
     "data": {
      "image/png": "[encoded data removed]",
      "text/plain": [
       "<Figure size 1000x500 with 2 Axes>"
      ]
     },
     "metadata": {},
     "output_type": "display_data"
    }
   ],
   "source": [
    "# Accuracy vs Loss\n",
    "# Plotting accuracy\n",
    "plt.figure(figsize=(10, 5))\n",
    "plt.subplot(1, 2, 1)\n",
    "plt.plot(history.history['accuracy'], label='Training Accuracy')\n",
    "plt.plot(history.history['val_accuracy'], label='Validation Accuracy')\n",
    "plt.xlabel('Epochs')\n",
    "plt.ylabel('Accuracy')\n",
    "plt.title('Model Accuracy')\n",
    "plt.legend()\n",
    "\n",
    "# Plotting loss\n",
    "plt.subplot(1, 2, 2)\n",
    "plt.plot(history.history['loss'], label='Training Loss')\n",
    "plt.plot(history.history['val_loss'], label='Validation Loss')\n",
    "plt.xlabel('Epochs')\n",
    "plt.ylabel('Loss')\n",
    "plt.title('Model Loss')\n",
    "plt.legend()\n",
    "\n",
    "plt.tight_layout()\n",
    "plt.show()"
   ]
  },
  {
   "metadata": {},
   "cell_type": "markdown",
   "source": "## 18. Evaluate the trained model  ",
   "id": "3389a55e49368c86"
  },
  {
   "metadata": {},
   "cell_type": "code",
   "outputs": [],
   "execution_count": null,
   "source": [
    "test_loss, test_acc = model.evaluate(val_dataset)\n",
    "print(f'Test accuracy: {test_acc}')\n",
    "print(f'Test loss: {test_loss}')"
   ],
   "id": "f5c7e0df81696564"
  },
  {
   "metadata": {},
   "cell_type": "markdown",
   "source": "## 19. Make predictions with the trained model",
   "id": "5ae673991ccc0368"
  },
  {
   "metadata": {},
   "cell_type": "code",
   "outputs": [],
   "execution_count": null,
   "source": [
    "# Get the true labels\n",
    "true_labels = val_dataset.classes\n",
    "\n",
    "# Make predictions\n",
    "predictions = model.predict(val_dataset)\n",
    "predicted_labels = np.round(predictions).flatten()  # For binary classification"
   ],
   "id": "ef49907e86d81339"
  },
  {
   "metadata": {},
   "cell_type": "markdown",
   "source": "## 20. Generate F1 Score",
   "id": "915eea935e7872cf"
  },
  {
   "metadata": {},
   "cell_type": "code",
   "outputs": [],
   "execution_count": null,
   "source": [
    "# Make predictions on the test data\n",
    "y_pred_prob = predictions\n",
    "y_pred = np.where(y_pred_prob > 0.5, 1, 0)\n",
    "# Calculate F1 score\n",
    "print(classification_report(true_labels, y_pred, target_names=val_dataset.class_indices.keys()))\n",
    "f1 = f1_score(true_labels, y_pred)\n",
    "print(f'F1 Score: {f1}')"
   ],
   "id": "536e8095124f2de1"
  },
  {
   "metadata": {},
   "cell_type": "markdown",
   "source": "## 21. Generate the confusion matrix to validate results and plot the information",
   "id": "beaf8dbe957113aa"
  },
  {
   "metadata": {},
   "cell_type": "code",
   "outputs": [],
   "execution_count": null,
   "source": [
    "# Generate the confusion matrix\n",
    "cm = confusion_matrix(true_labels, predicted_labels)\n",
    "\n",
    "# Plot the confusion matrix\n",
    "plt.figure(figsize=(8, 6))\n",
    "sns.heatmap(cm, annot=True, fmt='d', cmap='Blues', xticklabels=['AI', 'human'], yticklabels=['AI', 'human'])\n",
    "plt.xlabel('Predicted Labels')\n",
    "plt.ylabel('True Labels')\n",
    "plt.title('Confusion Matrix')\n",
    "plt.show()"
   ],
   "id": "6127397ebffcf243"
  }
 ],
 "metadata": {
  "kernelspec": {
   "display_name": "Python 3 (ipykernel)",
   "language": "python",
   "name": "python3"
  },
  "language_info": {
   "codemirror_mode": {
    "name": "ipython",
    "version": 3
   },
   "file_extension": ".py",
   "mimetype": "text/x-python",
   "name": "python",
   "nbconvert_exporter": "python",
   "pygments_lexer": "ipython3",
   "version": "3.10.12"
  }
 },
 "nbformat": 4,
 "nbformat_minor": 5
}
